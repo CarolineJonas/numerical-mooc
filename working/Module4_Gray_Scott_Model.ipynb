{
 "cells": [
  {
   "cell_type": "markdown",
   "metadata": {},
   "source": [
    "***Méthodes numériques: Module 4***\n",
    "\n",
    "# Réaction-Diffusion: Le modèle de Gray-Scott.\n",
    "\n",
    "## 1. Introduction.\n",
    "Dans ce travail nous allons étudier le phénomène de réaction et de diffusion de deux espèces chimiques dans un espace à deux dimensions. Nous le traiterons selon le modèle de Gray-Scott, expliqué ci-dessous et nous discuterons ensuite nos résultats. Pour visualiser l'évolution de la situation, nous allons dessiner des cartes où les concentrations des deux espèces chimiques seront représentées par un gradient de couleurs.\n",
    "Nous commencons par importer la librairie numpy, matplotlib et matplotlib.cm qui nous permettra de dessiner les cartes.\n",
    "Nous importons \"time qui va nous permettre de calculer le temps mis par nos fonctions pour s'éxécuter.\n",
    "Ensuite nous importons le fichier contenant les données initiales u et v qui se trouve dans le fichier uvinitial.npz du même dépôt."
   ]
  },
  {
   "cell_type": "code",
   "execution_count": 3,
   "metadata": {
    "collapsed": true
   },
   "outputs": [],
   "source": [
    "import numpy\n",
    "from matplotlib import pyplot\n",
    "import matplotlib.cm as cm\n",
    "%matplotlib inline\n",
    "import time"
   ]
  },
  {
   "cell_type": "code",
   "execution_count": 4,
   "metadata": {
    "collapsed": false
   },
   "outputs": [],
   "source": [
    "uvinitial = numpy.load('./uvinitial.npz')\n",
    "U = uvinitial['U']\n",
    "V = uvinitial['V']\n",
    "UV=[U,V]"
   ]
  },
  {
   "cell_type": "code",
   "execution_count": null,
   "metadata": {
    "collapsed": false
   },
   "outputs": [],
   "source": [
    "def mymap(uv):\n",
    "    fig = pyplot.figure(figsize=(14,5))\n",
    "    pyplot.subplot(121)\n",
    "    pyplot.imshow(uv[0], cmap = cm.RdBu)\n",
    "    pyplot.xticks([]), pyplot.yticks([])\n",
    "    pyplot.title('Concentration en u')\n",
    "    pyplot.colorbar();\n",
    "    pyplot.subplot(122)\n",
    "    pyplot.imshow(uv[1], cmap = cm.RdBu)\n",
    "    pyplot.xticks([]), pyplot.yticks([])\n",
    "    pyplot.title('Concentration en v')\n",
    "    pyplot.colorbar();"
   ]
  },
  {
   "cell_type": "code",
   "execution_count": null,
   "metadata": {
    "collapsed": false
   },
   "outputs": [],
   "source": [
    "mymap(UV)"
   ]
  },
  {
   "cell_type": "markdown",
   "metadata": {},
   "source": [
    "## 2. Principe\n",
    "\n",
    "On étudie l'évolution de deux espèces chimiques U et V dont la concentration est donnée par les variables u et v et qui:\n",
    " - se diffusent chacune à leur propre taux (resp. Du et Dv)\n",
    " - peuvent interagir par $2U+V\\rightarrow 3V$\n",
    " - l'espèce U est réintroduite constamment à un taux constant et l'espèce V est éliminée à un autre taux constant\n",
    "Toutes ces conditions se traduisent, selon le modèle de Gray-Scott par les équations différentielles différentes."
   ]
  },
  {
   "cell_type": "markdown",
   "metadata": {
    "collapsed": true
   },
   "source": [
    "Le système d'équations différentielles à résoudre s'écrit:\n",
    "\n",
    "\n",
    "\\begin{align}\n",
    "\\frac{\\partial u}{\\partial t} &= D_u \\nabla ^2 u - uv^2 + F(1-u)\\\\\n",
    "\\frac{\\partial v}{\\partial t} &= D_v \\nabla ^2 v + uv^2 - (F + k)v\n",
    "\\end{align}\n",
    "\n",
    "### Méthode explicite\n",
    "\n",
    "Nous allons le discrétiser vers l'avant dans le temps et par un schéma centré dans l'espace (forward-time,centred-space). Nous allons le résoudre par un schéma explicite: la discrétisation dans l'espace s'effectue au temps n:\n",
    "\n",
    "\n",
    "\\begin{align}\n",
    "\\frac{u_{i,j}^{n+1}-u_{i,j}^{n}}{\\Delta t}= D_{u}*(\\frac{u_{i+1,j}^{n}-2u_{i,j}^{n}+u_{i-1,j}^{n}}{\\Delta x^2}+\\frac{u_{i,j+1}^{n}-2u_{i,j}^{n}+u_{i,j-1}^{n}}{\\Delta y^2})-u_{i,j}^{n}*(v_{i,j}^{n})^2+F(1-u_{i,j}^{n})\\\\\n",
    "\\frac{v_{i,j}^{n+1}-v_{i,j}^{n}}{\\Delta t}=D_{v}*(\\frac{v_{i+1,j}^{n}-2v_{i,j}^{n}+v_{i-1,j}^{n}}{\\Delta x^2}+\\frac{v_{i,j+1}^{n}-2v_{i,j}^{n}+v_{i,j-1}^{n}}{\\Delta y^2})+u_{i,j}^{n}*(v_{i,j}^{n})^2-(F+k)v_{i,j}^{n}\n",
    "\\end{align}"
   ]
  },
  {
   "cell_type": "markdown",
   "metadata": {
    "collapsed": true
   },
   "source": [
    "On pose ensuite \n",
    "\\begin{equation}\n",
    "\\Delta x^2=\\Delta y^2=\\delta^2\\\\\n",
    "\\end{equation}\n",
    "Afin de pouvoir utiliser effectivement la méthode explicite, nous devons nous assurer que la condition de stabilité est respectée, dans notre cas:\n",
    "\\begin{align}\n",
    "D_{u}\\frac{\\Delta t}{\\Delta x^2}<\\frac{1}{4}\\\\\n",
    "D_{v}\\frac{\\Delta t}{\\Delta y^2}<\\frac{1}{4}\n",
    "\\end{align}\n",
    "que l'on peut dans ce cas-ci réécrire:\n",
    "\\begin{align}\n",
    "\\Delta t< \\frac{1}{4}\\frac{\\delta^2}{\\max(D_u, D_v)}\\\\\n",
    "\\end{align}\n",
    "Nous choissisons donc: \n",
    "\\begin{align}\n",
    "\\Delta t= \\frac{9}{40}\\frac{\\delta^2}{\\max(D_u, D_v)}\n",
    "\\end{align}"
   ]
  },
  {
   "cell_type": "markdown",
   "metadata": {},
   "source": [
    "On met tous les termes connus dans le membre de droite et les termes inconnus dans le membre de gauche:"
   ]
  },
  {
   "cell_type": "markdown",
   "metadata": {},
   "source": [
    "\\begin{align}\n",
    "u_{i,j}^{n+1}=u_{i,j}^{n}+\\Delta t\\left(Du*(\\frac{u_{i+1,j}^{n}-2u_{i,j}^{n}+u_{i-1,j}^{n}}{\\delta^2}+\\frac{u_{i,j+1}^{n}-2u_{i,j}^{n}+u_{i,j-1}^{n}}{\\delta^2})-u_{i,j}^{n}*(v_{i,j}^{n})^2+F(1-u_{i,j}^{n})\\right)\\\\\n",
    "v_{i,j}^{n+1}=v_{i,j}^{n}+\\Delta t\\left(Dv*(\\frac{v_{i+1,j}^{n}-2v_{i,j}^{n}+v_{i-1,j}^{n}}{\\delta^2}+\\frac{v_{i,j+1}^{n}-2v_{i,j}^{n}+v_{i,j-1}^{n}}{\\delta^2})+u_{i,j}^{n}*(v_{i,j}^{n})^2-(F+k)v_{i,j}^{n}\\right)\n",
    "\\end{align}  \n",
    "\n",
    "que nous réécrivons comme:  \n",
    "\n",
    "\\begin{align}\n",
    "u_{i,j}^{n+1}=u_{i,j}^{n}*\\left(1-4\\frac{\\Delta t*Du}{\\delta^2}-\\Delta t*(v_{i,j}^n)^2-\\Delta t*F\\right)+\\Delta t\\left(Du*(\\frac{u_{i+1,j}^{n}+u_{i-1,j}^{n}+u_{i,j+1}^{n}+u_{i,j-1}^{n}}{\\delta^2})+F\\right)\\\\\n",
    "v_{i,j}^{n+1}=v_{i,j}^{n}*\\left(1-4\\frac{\\Delta t*Dv}{\\delta^2}-\\Delta t*(F+k)\\right)+\\Delta t\\left(Dv*(\\frac{v_{i+1,j}^{n}+v_{i-1,j}^{n}+v_{i,j+1}^{n}+v_{i,j-1}^{n}}{\\delta^2})+u_{i,j}^{n}*(v_{i,j}^{n})^2\\right)\\\\\n",
    "\\end{align}\n",
    "C'est ce dernier système de deux équations que nous allons résoudre."
   ]
  },
  {
   "cell_type": "markdown",
   "metadata": {},
   "source": [
    "### Conditions aux bords\n",
    "\n",
    "Les conditions aux bords sont des conditions de Neumann, c'est-à-dire que:\n",
    "\\begin{align}\n",
    "u_{i,1}^{n+1} = u_{i,0}^{n+1},\\,u_{i,N-2}^{n+1} = u_{i,N-1}^{n+1}\\\\\n",
    "v_{i,1}^{n+1} = v_{i,0}^{n+1},\\,v_{i,N-2}^{n+1} = v_{i,N-1}^{n+1}\\\\\n",
    "u_{1,j}^{n+1} = u_{0,j}^{n+1},\\,u_{N-2,j}^{n+1} = u_{N-1,j}^{n+1}\\\\\n",
    "v_{1,j}^{n+1} = v_{0,j}^{n+1},\\,v_{N-2,j}^{n+1} = v_{N-1,j}^{n+1}\\\\\n",
    "\\forall i,j \\in \\{\\,0,\\ldots,N-1\\,\\}\\\\\n",
    "\\end{align}\n",
    "*Remarque*: N est la taille des matrices u et v c'est-à-dire que le nombre de pas spatiaux en directions x et y est N-1, n est le nombre de pas de temps. cela ne pose pas de problème car Python distingue les lettres minuscules et majuscules."
   ]
  },
  {
   "cell_type": "markdown",
   "metadata": {},
   "source": [
    "## 3.Paramètres\n",
    "Nous introduisons ici les paramètres du problème.\n",
    "La première cellule contient ceux qui resteront inchangés tout au long de notre travail. \n",
    " - Le nombre N est la taille des matrice u et v initial, N-1 est donc le nombre de pas spatiaux. \n",
    " - dh est la longueur de ce pas spatial nécessaire pour que la distance totale soit de 5 mètres. \n",
    " - Nous allons effectuer notre discrétisation sur un temps total T de 8000s."
   ]
  },
  {
   "cell_type": "code",
   "execution_count": null,
   "metadata": {
    "collapsed": false
   },
   "outputs": [],
   "source": [
    "N = len(U)\n",
    "print(N)\n",
    "dh = 5/(N-1) #delta\n",
    "T=8000"
   ]
  },
  {
   "cell_type": "markdown",
   "metadata": {},
   "source": [
    "Nous introduisons à présent les paramètres qui changeront dans la suite du travail. La liste des conditions initiales contient: [Du,Dv,F,k]. Nous écrivons ici la première liste de paramètres CI1 que ous allons utiliser pour valider notre résolution. Nous introduirons plus tard d'autres listes.\n",
    "Comme le temps dt( et donc également nt) dépend de Du et Dv, nous définissons dt et nt comme une fonction de notre liste de paramètres CI "
   ]
  },
  {
   "cell_type": "code",
   "execution_count": null,
   "metadata": {
    "collapsed": true
   },
   "outputs": [],
   "source": [
    "CI1=numpy.array([0.00016, 0.00008, 0.035, 0.065]) # Bacteria 1 "
   ]
  },
  {
   "cell_type": "code",
   "execution_count": null,
   "metadata": {
    "collapsed": true
   },
   "outputs": [],
   "source": [
    "def dtandnt(CI,tf):\n",
    "    dt = .9 * dh**2 / (4*max(CI[0],CI[1]))\n",
    "    nt=int(tf/dt)\n",
    "    return (dt,nt)"
   ]
  },
  {
   "cell_type": "markdown",
   "metadata": {},
   "source": [
    "## 4.Résolution:"
   ]
  },
  {
   "cell_type": "code",
   "execution_count": null,
   "metadata": {
    "collapsed": false
   },
   "outputs": [],
   "source": [
    "def grayscott(u0,v0,CI):\n",
    "    Du=CI[0]\n",
    "    Dv=CI[1]\n",
    "    F=CI[2]\n",
    "    k=CI[3]\n",
    "    N=len(u0)\n",
    "    [dt,nt]=dtandnt(CI,T)\n",
    "    ucopy=u0.copy()#nous copions les valeurs de u0 et v0 pour ne pas changer nos listes initiales\n",
    "    vcopy=v0.copy()\n",
    "    for n in range (nt):\n",
    "        un=ucopy.copy()#cette copie garde les valeurs du temps précédent pour pouvoir les utiliser dans la discrétisation\n",
    "        vn=vcopy.copy()\n",
    "        ucopy[1:-1,1:-1]=un[1:-1,1:-1]*(1-4*dt*Du/dh**2-dt*(vn[1:-1,1:-1])**2-dt*F)\\\n",
    "                        +dt*Du*(un[2:,1:-1]+un[:-2,1:-1]+un[1:-1,2:]+un[1:-1,:-2])/(dh**2)+dt*F\n",
    "        \n",
    "        vcopy[1:-1,1:-1]=vn[1:-1,1:-1]*(1-4*dt*Dv/dh**2-dt*(F+k))+dt*Dv*(vn[2:,1:-1]+vn[:-2,1:-1]+vn[1:-1,2:]+vn[1:-1,:-2])/(dh**2)\\\n",
    "                        +dt*un[1:-1,1:-1]*(vn[1:-1,1:-1])**2\n",
    "        #conditions de Neumann:\n",
    "        ucopy[:,0]=ucopy[:,1]\n",
    "        ucopy[0,:]=ucopy[1,:]\n",
    "        ucopy[:,N-1]=ucopy[:,N-2]\n",
    "        ucopy[N-1,:]=ucopy[N-2,:]\n",
    "        vcopy[:,0]=vcopy[:,1]\n",
    "        vcopy[0,:]=vcopy[1,:]\n",
    "        vcopy[:,N-1]=vcopy[:,N-2]\n",
    "        vcopy[N-1,:]=vcopy[N-2,:]\n",
    "        \n",
    "    return (ucopy,vcopy)"
   ]
  },
  {
   "cell_type": "markdown",
   "metadata": {},
   "source": [
    "### Cartes"
   ]
  },
  {
   "cell_type": "markdown",
   "metadata": {},
   "source": [
    "Nous allons à présent pouvoir visualiser la situation finale à l'aide des cartes. Nous calculons également le temps mis pour éxécuter la cellule "
   ]
  },
  {
   "cell_type": "code",
   "execution_count": null,
   "metadata": {
    "collapsed": false
   },
   "outputs": [],
   "source": [
    "start_time = time.time()\n",
    "sol=grayscott(U,V,CI1)\n",
    "mymap(sol)\n",
    "print(\"--- %s seconds ---\" % (time.time() - start_time))"
   ]
  },
  {
   "cell_type": "markdown",
   "metadata": {},
   "source": [
    "17.77 secondes pour s'éxécuter"
   ]
  },
  {
   "cell_type": "markdown",
   "metadata": {},
   "source": [
    "### Solution des questions posées:\n",
    "Pour vérifier que notre code donne la bonne solution, nous fournissons les valeurs de u de la 100ème ligne toutes les 40 valeurs.\n",
    "Nous utilisons la fonction numpy.round pour obtenir les valeurs à la quatrième décimale."
   ]
  },
  {
   "cell_type": "code",
   "execution_count": null,
   "metadata": {
    "collapsed": false
   },
   "outputs": [],
   "source": [
    "print(numpy.round(sol[0][100,::40],4))"
   ]
  },
  {
   "cell_type": "markdown",
   "metadata": {},
   "source": [
    "Ce sont les bonnes solutions, notre code fonctionne donc correctement."
   ]
  },
  {
   "cell_type": "markdown",
   "metadata": {},
   "source": [
    "## 5.Evolution dans le temps:\n",
    "Nous allons à présent animer notre solution pour rendre le processus plus visuel.\n",
    "Comme il s'agit d'une carte, nous ne pouvons pas utiliser les mêmes codes que dans les modules différents. Nous nous sommes inspirés de la documentation matplotlib et de l'exemple de ce lien: http://matplotlib.org/examples/animation/dynamic_image2.html."
   ]
  },
  {
   "cell_type": "code",
   "execution_count": null,
   "metadata": {
    "collapsed": true
   },
   "outputs": [],
   "source": [
    "from matplotlib import animation\n",
    "from IPython.display import HTML"
   ]
  },
  {
   "cell_type": "markdown",
   "metadata": {},
   "source": [
    "Nous rappelons les paramètres utilisés:"
   ]
  },
  {
   "cell_type": "code",
   "execution_count": null,
   "metadata": {
    "collapsed": false
   },
   "outputs": [],
   "source": [
    "#Paramètres fixes\n",
    "N=192\n",
    "dh = 5/(N-1)\n",
    "T=8000\n",
    "\n",
    "#Paramètres variables (Du,Dv,F,k)\n",
    "CI1=numpy.array([0.00016, 0.00008, 0.035, 0.065]) # Bacteria 1"
   ]
  },
  {
   "cell_type": "markdown",
   "metadata": {},
   "source": [
    "Pour créer la vidéo, nous avons besoin de vecteurs reprenant nos solutions pour u et v à chaque étapes de temps j. Nous devons donc modifier un petit peu notre code pour cela."
   ]
  },
  {
   "cell_type": "code",
   "execution_count": null,
   "metadata": {
    "collapsed": false
   },
   "outputs": [],
   "source": [
    "def vectors(CI,tf):\n",
    "    [dt,nt]=dtandnt(CI,tf)\n",
    "    uu=numpy.zeros((nt+1,N,N))\n",
    "    uu[0]=U\n",
    "    vv=numpy.zeros((nt+1,N,N))\n",
    "    vv[0]=V\n",
    "    Du=CI[0]\n",
    "    Dv=CI[1]\n",
    "    F=CI[2]\n",
    "    k=CI[3]\n",
    "    \n",
    "    for n in range (nt):\n",
    "        uu[n+1,1:-1,1:-1]=uu[n,1:-1,1:-1]*(1-4*dt*Du/dh**2-dt*(vv[n,1:-1,1:-1])**2-dt*F)\\\n",
    "                        +dt*Du*(uu[n,2:,1:-1]+uu[n,:-2,1:-1]+uu[n,1:-1,2:]+uu[n,1:-1,:-2])/(dh**2)+dt*F\n",
    "            \n",
    "        vv[n+1,1:-1,1:-1]=vv[n,1:-1,1:-1]*(1-4*dt*Dv/dh**2-dt*(F+k))+dt*Dv*(vv[n,2:,1:-1]+vv[n,:-2,1:-1]+vv[n,1:-1,2:]\\\n",
    "                        +vv[n,1:-1,:-2])/(dh**2)+dt*uu[n,1:-1,1:-1]*(vv[n,1:-1,1:-1])**2\n",
    "        #conditions de Neumann:\n",
    "        uu[n+1,:,0]=uu[n+1,:,1]\n",
    "        uu[n+1,0,:]=uu[n+1,1,:]\n",
    "        uu[n+1,:,N-1]=uu[n+1,:,N-2]\n",
    "        uu[n+1,N-1,:]=uu[n+1,N-2,:]\n",
    "        vv[n+1,:,0]=vv[n+1,:,1]\n",
    "        vv[n+1,0,:]=vv[n+1,1,:]\n",
    "        vv[n+1,:,N-1]=vv[n+1,:,N-2]\n",
    "        vv[n+1,N-1,:]=vv[n+1,N-2,:]\n",
    "    return(uu,vv)"
   ]
  },
  {
   "cell_type": "markdown",
   "metadata": {},
   "source": [
    "Nous allons à présent calculer notre vecteur jusqu'au temps final(8000s) pour pouvoir reproduire la même animation que dans dans le notebook de présentation. Cette cellule met cependant beaucoup de temps pour s'éxécuter (52secondes calculées par la fonction \"time\"). Par la suite nous ne ferons plus d'animations sur des temps aussi longs."
   ]
  },
  {
   "cell_type": "code",
   "execution_count": null,
   "metadata": {
    "collapsed": false
   },
   "outputs": [],
   "source": [
    "start_time = time.time()\n",
    "uu=vectors(CI1,8000)[0]#attention cette cellule met beaucoup de temps à s'éxécuter\n",
    "nt=len(uu)\n",
    "print(\"--- %s seconds ---\" % (time.time() - start_time))"
   ]
  },
  {
   "cell_type": "markdown",
   "metadata": {},
   "source": [
    "Nous utilisons maintenant le même code que dans le lien, adapté à notre situation:"
   ]
  },
  {
   "cell_type": "code",
   "execution_count": null,
   "metadata": {
    "collapsed": false
   },
   "outputs": [],
   "source": [
    "fig = pyplot.figure(figsize=(8,5))\n",
    "ims = []\n",
    "for i in range(0,len(uu),100):#on le fait toutes les 100 étapes pour diminuer le temps de calcul\n",
    "    im = pyplot.imshow(uu[i], cmap=cm.RdBu, animated=True)\n",
    "    ims.append([im])\n",
    "\n",
    "ani = animation.ArtistAnimation(fig, ims, interval=50, blit=True,\n",
    "                                repeat_delay=1000)\n",
    "pyplot.close()"
   ]
  },
  {
   "cell_type": "markdown",
   "metadata": {},
   "source": [
    "Et nous pouvons à présent lancer l'animation!"
   ]
  },
  {
   "cell_type": "code",
   "execution_count": null,
   "metadata": {
    "collapsed": false
   },
   "outputs": [],
   "source": [
    "HTML(ani.to_html5_video())"
   ]
  },
  {
   "cell_type": "markdown",
   "metadata": {},
   "source": [
    "Ceci correspond exactement à la solution montrée dans le module: ceci vérifie une fois de plus que notre code est correct.\n",
    "Nous pouvons à présent utiliser ce code pour explorer d'autres paramètres!"
   ]
  },
  {
   "cell_type": "markdown",
   "metadata": {
    "collapsed": false
   },
   "source": [
    "## 6. Autres paramètres:\n",
    "Nous allons maintenant regarder d'autres patterns crées par différents paramètres initiaux.\n",
    "Rappelons que les listes ci-dessous donnent les paramètres dans l'ordre suivant: [Du,Dv,F,k]"
   ]
  },
  {
   "cell_type": "code",
   "execution_count": null,
   "metadata": {
    "collapsed": true
   },
   "outputs": [],
   "source": [
    "I2=numpy.array([0.00014, 0.00006, 0.035, 0.065]) # Bacteria 2\n",
    "I3=numpy.array([0.00016, 0.00008, 0.060, 0.062]) # Coral\n",
    "I4=numpy.array([0.00019, 0.00005, 0.060, 0.062]) # Fingerprint\n",
    "I5=numpy.array([0.00010, 0.00010, 0.018, 0.050]) # Spirals\n",
    "I6=numpy.array([0.00012, 0.00008, 0.020, 0.050]) # Spirals Dense\n",
    "I7=numpy.array([0.00010, 0.00016, 0.020, 0.050]) # Spirals Fast\n",
    "I8=numpy.array([0.00016, 0.00008, 0.020, 0.055]) # Unstable\n",
    "I9=numpy.array([0.00016, 0.00008, 0.050, 0.065]) # Worms 1\n",
    "I10=numpy.array([0.00016, 0.00008, 0.054, 0.063]) # Worms 2\n",
    "I11=numpy.array([0.00016, 0.00008, 0.035, 0.060]) # Zebrafish"
   ]
  },
  {
   "cell_type": "markdown",
   "metadata": {},
   "source": [
    "Nous allons d'abord regarder le résultat final de chacune de ces modélisations en utilisant notre premier code.En effet le code sans vecteurs s'éxécute en 18 secondes pour un temps final de 8000 tandis que celui avec vecteur s'éxécute en 52 secondes! Nous commencons par dessiner une carte de chaque cas et nous ferons des animations pour certains cas intéressants."
   ]
  },
  {
   "cell_type": "code",
   "execution_count": null,
   "metadata": {
    "collapsed": false
   },
   "outputs": [],
   "source": [
    "sol2=grayscott(U,V,I2)\n",
    "mymap(sol2)"
   ]
  },
  {
   "cell_type": "code",
   "execution_count": null,
   "metadata": {
    "collapsed": false
   },
   "outputs": [],
   "source": [
    "sol3=grayscott(U,V,I3)\n",
    "mymap(sol3)"
   ]
  },
  {
   "cell_type": "code",
   "execution_count": null,
   "metadata": {
    "collapsed": false
   },
   "outputs": [],
   "source": [
    "solandmap(I4)"
   ]
  },
  {
   "cell_type": "code",
   "execution_count": null,
   "metadata": {
    "collapsed": false
   },
   "outputs": [],
   "source": [
    "solandmap(I5)"
   ]
  },
  {
   "cell_type": "code",
   "execution_count": null,
   "metadata": {
    "collapsed": false
   },
   "outputs": [],
   "source": [
    "solandmap(I6)"
   ]
  },
  {
   "cell_type": "code",
   "execution_count": null,
   "metadata": {
    "collapsed": false
   },
   "outputs": [],
   "source": [
    "solandmap(I7)"
   ]
  },
  {
   "cell_type": "code",
   "execution_count": null,
   "metadata": {
    "collapsed": false
   },
   "outputs": [],
   "source": [
    "solandmap(I8)"
   ]
  },
  {
   "cell_type": "code",
   "execution_count": null,
   "metadata": {
    "collapsed": false
   },
   "outputs": [],
   "source": [
    "solandmap(I9)"
   ]
  },
  {
   "cell_type": "code",
   "execution_count": null,
   "metadata": {
    "collapsed": false
   },
   "outputs": [],
   "source": [
    "solandmap(I10)"
   ]
  },
  {
   "cell_type": "code",
   "execution_count": null,
   "metadata": {
    "collapsed": false
   },
   "outputs": [],
   "source": [
    "solandmap(I11)"
   ]
  },
  {
   "cell_type": "markdown",
   "metadata": {},
   "source": [
    "On voit que bien que les motifs soient différents, tous ont un comportement similaires à la première réaction, sauf les 3 spirales (I5, I6, I7). Nous allons étudier de plus près ces trois cas pour comprendre ce qu'il se passe."
   ]
  },
  {
   "cell_type": "code",
   "execution_count": null,
   "metadata": {
    "collapsed": false
   },
   "outputs": [],
   "source": [
    "#on calcule seulement sur 3000 secondes pour ne pas exploser le temps de calcul, et parce que plus rien d'intéressant ne se passe après\n",
    "uu= vectors(I5,3000)[0]"
   ]
  },
  {
   "cell_type": "code",
   "execution_count": null,
   "metadata": {
    "collapsed": false
   },
   "outputs": [],
   "source": [
    "fig = pyplot.figure(figsize=(8,5))\n",
    "ims = []\n",
    "for i in range(0,len(uu),50):#on prend toutes les 50 étapes pour mieux comprendre ce qui se passe\n",
    "    im = pyplot.imshow(uu[i], cmap=cm.RdBu, animated=True)\n",
    "    ims.append([im])\n",
    "\n",
    "ani = animation.ArtistAnimation(fig, ims, interval=100, blit=True,\n",
    "                                repeat_delay=1000)\n",
    "pyplot.close() \n",
    "    \n",
    "HTML(ani.to_html5_video())"
   ]
  },
  {
   "cell_type": "code",
   "execution_count": null,
   "metadata": {
    "collapsed": true
   },
   "outputs": [],
   "source": [
    "uu1=vectors(I6,3000)[0]"
   ]
  },
  {
   "cell_type": "code",
   "execution_count": null,
   "metadata": {
    "collapsed": false
   },
   "outputs": [],
   "source": [
    "fig = pyplot.figure(figsize=(8,5))\n",
    "ims = []\n",
    "for i in range(0,len(uu1),50):\n",
    "    im = pyplot.imshow(uu1[i], cmap=cm.RdBu, animated=True)\n",
    "    ims.append([im])\n",
    "\n",
    "ani = animation.ArtistAnimation(fig, ims, interval=100, blit=True,\n",
    "                                repeat_delay=1000)\n",
    "pyplot.close() \n",
    "    \n",
    "HTML(ani.to_html5_video())"
   ]
  },
  {
   "cell_type": "code",
   "execution_count": null,
   "metadata": {
    "collapsed": true
   },
   "outputs": [],
   "source": [
    "uu2=vectors(I7,3000)[0]"
   ]
  },
  {
   "cell_type": "code",
   "execution_count": null,
   "metadata": {
    "collapsed": false
   },
   "outputs": [],
   "source": [
    "fig = pyplot.figure(figsize=(8,5))\n",
    "ims = []\n",
    "for i in range(0,len(uu2),50):\n",
    "    im = pyplot.imshow(uu2[i], cmap=cm.RdBu, animated=True)\n",
    "    ims.append([im])\n",
    "\n",
    "ani = animation.ArtistAnimation(fig, ims, interval=100, blit=True,\n",
    "                                repeat_delay=1000)\n",
    "pyplot.close() \n",
    "    \n",
    "HTML(ani.to_html5_video())"
   ]
  },
  {
   "cell_type": "markdown",
   "metadata": {},
   "source": [
    "Nous constatons que pour ces trois listes de paramètres initiaux, les patterns ne sont pas ceux attendus (spirales), et qu'après un certain temps il semble ne plus rien se passer. \n",
    "\n",
    "**Comment comprendre ce phénomène?**\n",
    "\n",
    "Etant donné que notre code nous donne exactement la bonne solution pour la première liste de paramètres, le problème ne peut pas se trouver là. Nous avons bien pris en compte les problèmes de stabilité dûe à l'utilisation de la méthode explicite dans la définition de notre dt donc le problème ne réside pas là non plus.\n",
    "\n",
    "Que reste-t-il? \n",
    " - Soit il s'agit d'un problème dû au fait que la propagation n'est pas instantanée mais demande une étape d'itération (le second défaut de la méthode explicite), mais cela semble peu probable puisque ce problème ne se pose pas avec toutes les autres listes de paramètres.\n",
    "- Soit le problème provient directement des paramètres en tant que tels.\n",
    "\n",
    "En effet, en nous renseignant sur Internet, nous avons remarqué que la plupart des simulations se faisait à un rapport $\\frac{D_{u}}{D_{v}}$ fixé. Sur le site suivant: http://www.cs.mun.ca/~banzhaf/pycellchem/grayscott_intro.html, les conditions de stabilité pour qu'il y ait effectivement un pattern sont données comme:\n",
    "\\begin{equation}\n",
    "\\sigma=\\frac{D_{u}}{D_{v}} \\in [2,6]\\\\\n",
    "\\end{equation}\n",
    "En effet, ces trois listes de paramètres sont les seules de tous nos patterns où cette condition n'est pas respectée.\n",
    "\n",
    "**Remarque:** ce site donne également des conditions sur F et k mais d'après la classification de Pearson (http://mrob.com/pub/comp/xmorphia/pearson-classes.html), changer les paramètres F et k pour un $\\sigma$ fixé (ici à 2), change le résultat et il y a formation de patterns seulement sur une fine bande comme on le voit sur cette image qui provient de même site:"
   ]
  },
  {
   "cell_type": "markdown",
   "metadata": {},
   "source": [
    "<img src=\".\\xmorphia-parameter-map.jpg\" width=\"400\" height=\"400\" />\n",
    "\n",
    "#### Axe vertical: $F \\in [0.0020, 0.1100]$ par pas de 0.0040\n",
    "#### Axe horizontal: $k \\in [0.0190,0.0730]$ par pas de 0.0020"
   ]
  },
  {
   "cell_type": "markdown",
   "metadata": {},
   "source": [
    "En cherchant un peu plus, nous avons retrouvé d'où provenaient les listes de paramètres données dans le module: http://www.labri.fr/perso/nrougier/teaching/numpy/scripts/gray-scott.py. \n",
    "Ce site renvoie vers une application java (http://www.aliensaint.com/uo/java/rd/) où l'on peut entrer les paramètres F,k,Du et Dv et qui réalise l'animation du modèle Gray-scott de la même manière que notre code. Nous voyons qu'en rentrant les paramètres pour 'Spiral', 'Spiral Dense' et 'Spiral Fast', l'animation Java donne également des solutions où il ne se passe 'rien'. *Remarque: cette animation ne débute pas avec les même u et v initiaux.*\n",
    "\n",
    "Nous cherchons une combinaison de paramètres qui pourrait donner des spirales et qui est correspond au conditions de stabilité décrites ci-dessus.\n",
    "\n",
    "Source:http://mrob.com/pub/comp/xmorphia/F100/F100-k470.html"
   ]
  },
  {
   "cell_type": "code",
   "execution_count": null,
   "metadata": {
    "collapsed": true
   },
   "outputs": [],
   "source": [
    "Inew=[0.00020,0.0001,0.01,0.047]"
   ]
  },
  {
   "cell_type": "code",
   "execution_count": null,
   "metadata": {
    "collapsed": true
   },
   "outputs": [],
   "source": [
    "unew=vectors(Inew,5000)[0]"
   ]
  },
  {
   "cell_type": "code",
   "execution_count": null,
   "metadata": {
    "collapsed": false
   },
   "outputs": [],
   "source": [
    "fig = pyplot.figure(figsize=(8,5))\n",
    "ims = []\n",
    "for i in range(0,len(unew),50):\n",
    "    im = pyplot.imshow(unew[i], cmap=cm.RdBu, animated=True)\n",
    "    ims.append([im])\n",
    "\n",
    "ani = animation.ArtistAnimation(fig, ims, interval=50, blit=True,\n",
    "                                repeat_delay=1000)\n",
    "pyplot.close() \n",
    "    \n",
    "HTML(ani.to_html5_video())"
   ]
  },
  {
   "cell_type": "markdown",
   "metadata": {},
   "source": [
    "## 7. Conclusion:\n",
    "\n",
    "Ce module nous a permis d'étudier une équation de diffusion en 2 dimensions et de comprendre le modèle de Gray-Scott de manière visuelle grâce aux outils des cartes.\n",
    "\n",
    "Grâce aux différentes listes de paramètres, nous avons pu comprendre la forte influence de ceux-ci sur la solution et nous nous sommes intéressés au modèle de classification de Pearson.\n",
    "\n",
    "Nous avons également été confronté pour la première fois à des problèmes de *temps de calcul* et nous avons essayé de trouver des solutions pour le diminuer."
   ]
  }
 ],
 "metadata": {
  "anaconda-cloud": {},
  "kernelspec": {
   "display_name": "Python [conda root]",
   "language": "python",
   "name": "conda-root-py"
  },
  "language_info": {
   "codemirror_mode": {
    "name": "ipython",
    "version": 3
   },
   "file_extension": ".py",
   "mimetype": "text/x-python",
   "name": "python",
   "nbconvert_exporter": "python",
   "pygments_lexer": "ipython3",
   "version": "3.5.2"
  }
 },
 "nbformat": 4,
 "nbformat_minor": 1
}
