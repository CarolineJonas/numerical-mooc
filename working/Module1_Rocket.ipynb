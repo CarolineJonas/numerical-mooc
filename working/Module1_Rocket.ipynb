{
 "cells": [
  {
   "cell_type": "markdown",
   "metadata": {},
   "source": [
    "***Méthodes numériques:Module 1.***\n",
    "*********************************\n",
    "Modélisation du vol d'une fusée.\n",
    "==\n",
    "### But #\n",
    "\n",
    "\n",
    "Calculer, selon la méthode d'Euler, l'altitude et la vitesse d'une fusée qui possède une certaine masse de carburant initiale et qui la consume à un taux constant, de son lancer jusqu'à l'impact avec le sol.\n",
    "\n",
    "Nous considérons ce mouvement seulement dans la direction verticale de l'espace. La vitesse est donc la vitesse verticale de la fusée."
   ]
  },
  {
   "cell_type": "code",
   "execution_count": 2,
   "metadata": {
    "collapsed": false
   },
   "outputs": [],
   "source": [
    "import numpy\n",
    "from matplotlib import pyplot\n",
    "%matplotlib inline"
   ]
  },
  {
   "cell_type": "markdown",
   "metadata": {},
   "source": [
    "### Principe #\n",
    "\n",
    "\n",
    "Les équations différentielles de ce problème sont:  \n",
    "* $$\\frac{dh}{dt}=v$$ \n",
    "* $$\\frac{dv}{dt}=-g+\\frac{\\dot{m_{p}}}{m_{s}+m{p}}ve - \\frac{1}{2}\\frac{\\rho v \\mid{v}\\mid AC_{D}}{mp+ms}$$\n",
    "\n",
    "où\n",
    "* mp est la masse de carburant donnée par $$m_p = m_{po} - \\int^t_0 \\dot{m}_p d\\tau$$\n",
    "* $\\dot{mp}$ est le taux de consommation du carburant, qui vaut 20 kg/s entre t=0.0 et t=5.0 et qui vaut 0 kg/s ensuite.  \n",
    "* $\\rho$ est la masse volumique de l'air (supposée constante)\n",
    "* g est la constante gravitationnelle g=9.81 m/s²\n",
    "* ms est la masse de la fusée\n",
    "* A est la section maximale de la fusée (donnée par $\\pi*r²$)\n",
    "* CD est le coefficient de traînée\n",
    "* ve est la vitesse limite \n",
    "* v est la vitesse de la fusée\n",
    "* h est la hauteur de la fusée\n",
    "\n",
    "D'après la méthode d'Euler, on peut résoudre numériquement ces équations à partir des valeurs initiales d'altitude et de vitesse en avançant par pas de t=dt.\n",
    "* $$h_{n+1}=h_{n}+v_{n}dt$$ \n",
    "* $$v_{n+1}=v_{n}+dt*(-g+\\frac{\\dot{m_{p}}}{m_{s}+m{p}}ve - \\frac{1}{2}\\frac{\\rho v \\mid{v}\\mid AC_{D}}{ms+mp})$$\n",
    "Nous allons calculer les valeurs de h(altitude de la fusée) et v(vitesse) entre t=0 et t=T(temps final où la fusée se crashe) toutes les dt=0.1s et les reporter dans un tableau et dans deux graphiques: altitude en fonction du temps et vitesse en fonction du temps. Nous pourrons ensuite répondre aux questions posées dans le problème."
   ]
  },
  {
   "cell_type": "markdown",
   "metadata": {
    "collapsed": true
   },
   "source": [
    "### Paramètres du problème #"
   ]
  },
  {
   "cell_type": "code",
   "execution_count": 3,
   "metadata": {
    "collapsed": false
   },
   "outputs": [],
   "source": [
    "g=9.81\n",
    "p=1.091\n",
    "r=0.5\n",
    "A=numpy.pi*r**2\n",
    "ve=325.0\n",
    "ms=50.0\n",
    "mpo=100.0\n",
    "CD=0.15\n",
    "dt=0.1\n",
    "N=1000\n",
    "v=numpy.zeros(N)\n",
    "h=numpy.zeros(N)\n",
    "t=numpy.zeros(N)\n",
    "v[0]=0.0\n",
    "h[0]=0.0\n",
    "t[0]=0.0"
   ]
  },
  {
   "cell_type": "markdown",
   "metadata": {},
   "source": [
    "En plus des données initiales et paramètres donnés, nous créons trois listes qui serviront à stocker les données récoltées pour le temps t, l'altitude h et la vitesse v.\n",
    "\n",
    "Nous ne connaissons pas à l'avance la taille N que doivent avoir nos listes pour couvrir l'entièreté du problème, c'est-à-dire jusqu'à ce que la fusée retombe au sol. Néanmoins nous pouvons faire une estimation sur base du problème physique. Chaque étape dure 0.1s et la fusée possède du carburant jusqu'à la 5ème seconde. L'ordre de grandeur du temps mis pour effectuer la trajectoire sera donc compris entre environ 10 secondes et 100 secondes. Comme le nombre d'étapes reste raisonnable et que le calcul n'est pas trop complexe, on peut prendre une borne supérieure de t=100s, ce qui correspond à N=1000.\n",
    "\n",
    "\n",
    "### Définition des fonctions #\n",
    "\n",
    "Pour alléger le code et pour permettre la réutilisation de celui-ci pour des équations légèrement différentes, nous allons créer trois fonctions:\n",
    "* mp_value(i)  calcule la valeur de mp, la masse de carburant à l'instant t=i*dt \n",
    "* mp_dot(t)  nous permet de disposer de la valeur de $\\dot{mp}$en l'instant t=i*dt\n",
    "* derivativev(i,v0) donne la dérivée de la vitesse v au temps t=i*dt et à une vitesse v0.\n",
    "\n",
    "Pour être tout à fait systématique, nous devrions faire de même pour la dérivée de h, mais cela ne nous semble pas judicieux du point de vue de la clarté étant donnée que cette dérivée est constante."
   ]
  },
  {
   "cell_type": "markdown",
   "metadata": {},
   "source": [
    "Nous créons la fonction mp_value grâce à un rapide calcul d'après la formule générale pour mp et le graphe donnant $\\dot{m}_p$ en fonction du temps.\n",
    "On trouve qu'à 5s, $mp = 100 kg - 20 kg/s * 5s = 0 kg$. \n",
    "Le carburant est épuisé à $t=5s$ et $mp$ vaudra 0 kg à partir de cet instant. \n",
    " On peut donc créer une fonction qui utilise, à la condition que t soit inférieur ou égal à 5s, la formule générale $m_p = m_{po} - \\int^t_0 \\dot{m}_p d\\tau = m_{po} - \\dot{m}_p t$ (où t est l'instant auquel on cherche la la masse de carburant) et qui donne zéro si t est supérieur à 5s."
   ]
  },
  {
   "cell_type": "code",
   "execution_count": 4,
   "metadata": {
    "collapsed": false
   },
   "outputs": [],
   "source": [
    "def mp_value(i):\n",
    "    if i<50:\n",
    "        mp=mpo-20.0*t[i]\n",
    "    else:\n",
    "        mp=0\n",
    "    return mp  "
   ]
  },
  {
   "cell_type": "markdown",
   "metadata": {},
   "source": [
    "On sait que $\\dot{m}_p$ vaut 20kg/s jusqu'à t=5s et 0kg/s après. On peut alors écrire :"
   ]
  },
  {
   "cell_type": "code",
   "execution_count": 22,
   "metadata": {
    "collapsed": true
   },
   "outputs": [],
   "source": [
    "def mp_dot(i):\n",
    "    if i<50:\n",
    "        mpdot=20.0\n",
    "    else:\n",
    "        mpdot=0.0\n",
    "    return mpdot"
   ]
  },
  {
   "cell_type": "code",
   "execution_count": 23,
   "metadata": {
    "collapsed": true
   },
   "outputs": [],
   "source": [
    "def derivativev(i,v0):\n",
    "    derivativev=(-g+ ((mp_dot(i)/(ms+mp_value(i)))*ve)- ((0.5)*p*v0*abs(v0)*A*CD)/(mp_value(i)+ms))\n",
    "    return derivativev "
   ]
  },
  {
   "cell_type": "markdown",
   "metadata": {},
   "source": [
    "### Calcul des valeurs de h et de v#\n",
    "\n",
    "Nous implémentons le calcul des valeurs successives de h et v par une boucle \"while\" qui construit progressivement une liste de vitesses et d'altitudes en fonction du temps (donc, en fonction de la position dans la liste \"t\") en utilisant la méthode d'Euler, comme indiqué dans la partie intitulée \"Principe\".\n",
    "\n",
    "Nous demandons ensuite d'imprimer ces valeurs dans une liste à trois entrées reprenant l'instant t, la vitesse v et enfin l'altitude h. Comme les nombres réels sont stockés sur 64 bits, la précision est de $10^{-15}$. La valeur de t est donc précise à cette erreur près. Pour clarifier la liste des résultats nous limitons le nombre de décimales à imprimer à une pour le temps et à deux pour la vitesse et l'altitude (car le nombre de chiffres significatifs est de 3 dans les données du problème)."
   ]
  },
  {
   "cell_type": "code",
   "execution_count": 24,
   "metadata": {
    "collapsed": false
   },
   "outputs": [
    {
     "name": "stdout",
     "output_type": "stream",
     "text": [
      "[0.0, 0.0, 0.0]\n",
      "['0.1', '3.35', '0.00']\n",
      "['0.2', '6.76', '0.34']\n",
      "['0.3', '10.23', '1.01']\n",
      "['0.4', '13.76', '2.03']\n",
      "['0.5', '17.35', '3.41']\n",
      "['0.6', '21.00', '5.15']\n",
      "['0.7', '24.70', '7.25']\n",
      "['0.8', '28.47', '9.72']\n",
      "['0.9', '32.30', '12.56']\n",
      "['1.0', '36.20', '15.79']\n",
      "['1.1', '40.15', '19.41']\n",
      "['1.2', '44.17', '23.43']\n",
      "['1.3', '48.25', '27.85']\n",
      "['1.4', '52.39', '32.67']\n",
      "['1.5', '56.59', '37.91']\n",
      "['1.6', '60.85', '43.57']\n",
      "['1.7', '65.18', '49.65']\n",
      "['1.8', '69.57', '56.17']\n",
      "['1.9', '74.01', '63.13']\n",
      "['2.0', '78.52', '70.53']\n",
      "['2.1', '83.09', '78.38']\n",
      "['2.2', '87.72', '86.69']\n",
      "['2.3', '92.40', '95.46']\n",
      "['2.4', '97.14', '104.70']\n",
      "['2.5', '101.94', '114.42']\n",
      "['2.6', '106.79', '124.61']\n",
      "['2.7', '111.69', '135.29']\n",
      "['2.8', '116.65', '146.46']\n",
      "['2.9', '121.65', '158.12']\n",
      "['3.0', '126.70', '170.29']\n",
      "['3.1', '131.80', '182.96']\n",
      "['3.2', '136.93', '196.14']\n",
      "['3.3', '142.11', '209.83']\n",
      "['3.4', '147.32', '224.04']\n",
      "['3.5', '152.57', '238.78']\n",
      "['3.6', '157.84', '254.03']\n",
      "['3.7', '163.14', '269.82']\n",
      "['3.8', '168.46', '286.13']\n",
      "['3.9', '173.80', '302.98']\n",
      "['4.0', '179.15', '320.36']\n",
      "['4.1', '184.51', '338.27']\n",
      "['4.2', '189.87', '356.72']\n",
      "['4.3', '195.23', '375.71']\n",
      "['4.4', '200.58', '395.23']\n",
      "['4.5', '205.91', '415.29']\n",
      "['4.6', '211.22', '435.88']\n",
      "['4.7', '216.50', '457.00']\n",
      "['4.8', '221.75', '478.65']\n",
      "['4.9', '226.95', '500.83']\n",
      "['5.0', '232.11', '523.52']\n",
      "['5.1', '224.20', '546.73']\n",
      "['5.2', '216.76', '569.15']\n",
      "['5.3', '209.74', '590.83']\n",
      "['5.4', '203.10', '611.80']\n",
      "['5.5', '196.82', '632.11']\n",
      "['5.6', '190.86', '651.80']\n",
      "['5.7', '185.20', '670.88']\n",
      "['5.8', '179.81', '689.40']\n",
      "['5.9', '174.67', '707.38']\n",
      "['6.0', '169.77', '724.85']\n",
      "['6.1', '165.08', '741.83']\n",
      "['6.2', '160.60', '758.34']\n",
      "['6.3', '156.30', '774.40']\n",
      "['6.4', '152.18', '790.03']\n",
      "['6.5', '148.23', '805.24']\n",
      "['6.6', '144.42', '820.07']\n",
      "['6.7', '140.76', '834.51']\n",
      "['6.8', '137.23', '848.58']\n",
      "['6.9', '133.83', '862.31']\n",
      "['7.0', '130.55', '875.69']\n",
      "['7.1', '127.37', '888.74']\n",
      "['7.2', '124.31', '901.48']\n",
      "['7.3', '121.34', '913.91']\n",
      "['7.4', '118.47', '926.05']\n",
      "['7.5', '115.68', '937.89']\n",
      "['7.6', '112.98', '949.46']\n",
      "['7.7', '110.36', '960.76']\n",
      "['7.8', '107.81', '971.80']\n",
      "['7.9', '105.34', '982.58']\n",
      "['8.0', '102.93', '993.11']\n",
      "['8.1', '100.59', '1003.41']\n",
      "['8.2', '98.31', '1013.46']\n",
      "['8.3', '96.08', '1023.29']\n",
      "['8.4', '93.92', '1032.90']\n",
      "['8.5', '91.80', '1042.29']\n",
      "['8.6', '89.74', '1051.48']\n",
      "['8.7', '87.72', '1060.45']\n",
      "['8.8', '85.75', '1069.22']\n",
      "['8.9', '83.83', '1077.80']\n",
      "['9.0', '81.94', '1086.18']\n",
      "['9.1', '80.10', '1094.37']\n",
      "['9.2', '78.29', '1102.38']\n",
      "['9.3', '76.52', '1110.21']\n",
      "['9.4', '74.79', '1117.86']\n",
      "['9.5', '73.09', '1125.34']\n",
      "['9.6', '71.42', '1132.65']\n",
      "['9.7', '69.79', '1139.79']\n",
      "['9.8', '68.18', '1146.77']\n",
      "['9.9', '66.60', '1153.59']\n",
      "['10.0', '65.05', '1160.25']\n",
      "['10.1', '63.52', '1166.76']\n",
      "['10.2', '62.02', '1173.11']\n",
      "['10.3', '60.55', '1179.31']\n",
      "['10.4', '59.10', '1185.37']\n",
      "['10.5', '57.67', '1191.27']\n",
      "['10.6', '56.26', '1197.04']\n",
      "['10.7', '54.87', '1202.67']\n",
      "['10.8', '53.50', '1208.15']\n",
      "['10.9', '52.15', '1213.50']\n",
      "['11.0', '50.82', '1218.72']\n",
      "['11.1', '49.51', '1223.80']\n",
      "['11.2', '48.21', '1228.75']\n",
      "['11.3', '46.93', '1233.57']\n",
      "['11.4', '45.67', '1238.27']\n",
      "['11.5', '44.42', '1242.83']\n",
      "['11.6', '43.19', '1247.28']\n",
      "['11.7', '41.97', '1251.60']\n",
      "['11.8', '40.76', '1255.79']\n",
      "['11.9', '39.56', '1259.87']\n",
      "['12.0', '38.38', '1263.82']\n",
      "['12.1', '37.21', '1267.66']\n",
      "['12.2', '36.05', '1271.38']\n",
      "['12.3', '34.90', '1274.99']\n",
      "['12.4', '33.77', '1278.48']\n",
      "['12.5', '32.64', '1281.86']\n",
      "['12.6', '31.52', '1285.12']\n",
      "['12.7', '30.41', '1288.27']\n",
      "['12.8', '29.31', '1291.31']\n",
      "['12.9', '28.22', '1294.24']\n",
      "['13.0', '27.14', '1297.07']\n",
      "['13.1', '26.06', '1299.78']\n",
      "['13.2', '24.99', '1302.39']\n",
      "['13.3', '23.93', '1304.89']\n",
      "['13.4', '22.88', '1307.28']\n",
      "['13.5', '21.83', '1309.57']\n",
      "['13.6', '20.79', '1311.75']\n",
      "['13.7', '19.75', '1313.83']\n",
      "['13.8', '18.72', '1315.80']\n",
      "['13.9', '17.69', '1317.68']\n",
      "['14.0', '16.67', '1319.44']\n",
      "['14.1', '15.66', '1321.11']\n",
      "['14.2', '14.64', '1322.68']\n",
      "['14.3', '13.63', '1324.14']\n",
      "['14.4', '12.63', '1325.51']\n",
      "['14.5', '11.63', '1326.77']\n",
      "['14.6', '10.63', '1327.93']\n",
      "['14.7', '9.63', '1328.99']\n",
      "['14.8', '8.64', '1329.96']\n",
      "['14.9', '7.65', '1330.82']\n",
      "['15.0', '6.66', '1331.59']\n",
      "['15.1', '5.68', '1332.25']\n",
      "['15.2', '4.69', '1332.82']\n",
      "['15.3', '3.71', '1333.29']\n",
      "['15.4', '2.72', '1333.66']\n",
      "['15.5', '1.74', '1333.93']\n",
      "['15.6', '0.76', '1334.11']\n",
      "['15.7', '-0.22', '1334.18']\n",
      "['15.8', '-1.20', '1334.16']\n",
      "['15.9', '-2.18', '1334.04']\n",
      "['16.0', '-3.16', '1333.82']\n",
      "['16.1', '-4.14', '1333.51']\n",
      "['16.2', '-5.12', '1333.09']\n",
      "['16.3', '-6.10', '1332.58']\n",
      "['16.4', '-7.08', '1331.97']\n",
      "['16.5', '-8.05', '1331.26']\n",
      "['16.6', '-9.02', '1330.46']\n",
      "['16.7', '-9.99', '1329.56']\n",
      "['16.8', '-10.96', '1328.56']\n",
      "['16.9', '-11.93', '1327.46']\n",
      "['17.0', '-12.89', '1326.27']\n",
      "['17.1', '-13.85', '1324.98']\n",
      "['17.2', '-14.81', '1323.59']\n",
      "['17.3', '-15.76', '1322.11']\n",
      "['17.4', '-16.71', '1320.54']\n",
      "['17.5', '-17.65', '1318.87']\n",
      "['17.6', '-18.59', '1317.10']\n",
      "['17.7', '-19.53', '1315.24']\n",
      "['17.8', '-20.46', '1313.29']\n",
      "['17.9', '-21.39', '1311.24']\n",
      "['18.0', '-22.31', '1309.10']\n",
      "['18.1', '-23.23', '1306.87']\n",
      "['18.2', '-24.14', '1304.55']\n",
      "['18.3', '-25.05', '1302.14']\n",
      "['18.4', '-25.95', '1299.63']\n",
      "['18.5', '-26.84', '1297.04']\n",
      "['18.6', '-27.73', '1294.35']\n",
      "['18.7', '-28.61', '1291.58']\n",
      "['18.8', '-29.49', '1288.72']\n",
      "['18.9', '-30.36', '1285.77']\n",
      "['19.0', '-31.22', '1282.73']\n",
      "['19.1', '-32.07', '1279.61']\n",
      "['19.2', '-32.92', '1276.40']\n",
      "['19.3', '-33.77', '1273.11']\n",
      "['19.4', '-34.60', '1269.74']\n",
      "['19.5', '-35.43', '1266.28']\n",
      "['19.6', '-36.25', '1262.73']\n",
      "['19.7', '-37.06', '1259.11']\n",
      "['19.8', '-37.86', '1255.40']\n",
      "['19.9', '-38.66', '1251.62']\n",
      "['20.0', '-39.45', '1247.75']\n",
      "['20.1', '-40.23', '1243.80']\n",
      "['20.2', '-41.00', '1239.78']\n",
      "['20.3', '-41.77', '1235.68']\n",
      "['20.4', '-42.52', '1231.50']\n",
      "['20.5', '-43.27', '1227.25']\n",
      "['20.6', '-44.01', '1222.93']\n",
      "['20.7', '-44.75', '1218.52']\n",
      "['20.8', '-45.47', '1214.05']\n",
      "['20.9', '-46.18', '1209.50']\n",
      "['21.0', '-46.89', '1204.88']\n",
      "['21.1', '-47.59', '1200.19']\n",
      "['21.2', '-48.28', '1195.44']\n",
      "['21.3', '-48.96', '1190.61']\n",
      "['21.4', '-49.63', '1185.71']\n",
      "['21.5', '-50.30', '1180.75']\n",
      "['21.6', '-50.95', '1175.72']\n",
      "['21.7', '-51.60', '1170.62']\n",
      "['21.8', '-52.24', '1165.46']\n",
      "['21.9', '-52.87', '1160.24']\n",
      "['22.0', '-53.49', '1154.95']\n",
      "['22.1', '-54.11', '1149.60']\n",
      "['22.2', '-54.71', '1144.19']\n",
      "['22.3', '-55.31', '1138.72']\n",
      "['22.4', '-55.89', '1133.19']\n",
      "['22.5', '-56.47', '1127.60']\n",
      "['22.6', '-57.04', '1121.95']\n",
      "['22.7', '-57.61', '1116.25']\n",
      "['22.8', '-58.16', '1110.49']\n",
      "['22.9', '-58.71', '1104.67']\n",
      "['23.0', '-59.25', '1098.80']\n",
      "['23.1', '-59.78', '1092.88']\n",
      "['23.2', '-60.30', '1086.90']\n",
      "['23.3', '-60.81', '1080.87']\n",
      "['23.4', '-61.32', '1074.79']\n",
      "['23.5', '-61.81', '1068.66']\n",
      "['23.6', '-62.30', '1062.48']\n",
      "['23.7', '-62.79', '1056.25']\n",
      "['23.8', '-63.26', '1049.97']\n",
      "['23.9', '-63.73', '1043.64']\n",
      "['24.0', '-64.19', '1037.27']\n",
      "['24.1', '-64.64', '1030.85']\n",
      "['24.2', '-65.08', '1024.39']\n",
      "['24.3', '-65.52', '1017.88']\n",
      "['24.4', '-65.95', '1011.33']\n",
      "['24.5', '-66.37', '1004.73']\n",
      "['24.6', '-66.78', '998.09']\n",
      "['24.7', '-67.19', '991.41']\n",
      "['24.8', '-67.59', '984.70']\n",
      "['24.9', '-67.99', '977.94']\n",
      "['25.0', '-68.37', '971.14']\n",
      "['25.1', '-68.75', '964.30']\n",
      "['25.2', '-69.13', '957.42']\n",
      "['25.3', '-69.49', '950.51']\n",
      "['25.4', '-69.85', '943.56']\n",
      "['25.5', '-70.21', '936.58']\n",
      "['25.6', '-70.56', '929.56']\n",
      "['25.7', '-70.90', '922.50']\n",
      "['25.8', '-71.23', '915.41']\n",
      "['25.9', '-71.56', '908.29']\n",
      "['26.0', '-71.88', '901.13']\n",
      "['26.1', '-72.20', '893.94']\n",
      "['26.2', '-72.51', '886.72']\n",
      "['26.3', '-72.82', '879.47']\n",
      "['26.4', '-73.12', '872.19']\n",
      "['26.5', '-73.41', '864.88']\n",
      "['26.6', '-73.70', '857.54']\n",
      "['26.7', '-73.98', '850.17']\n",
      "['26.8', '-74.26', '842.77']\n",
      "['26.9', '-74.53', '835.34']\n",
      "['27.0', '-74.80', '827.89']\n",
      "['27.1', '-75.06', '820.41']\n",
      "['27.2', '-75.32', '812.91']\n",
      "['27.3', '-75.57', '805.37']\n",
      "['27.4', '-75.82', '797.82']\n",
      "['27.5', '-76.06', '790.24']\n",
      "['27.6', '-76.30', '782.63']\n",
      "['27.7', '-76.53', '775.00']\n",
      "['27.8', '-76.76', '767.35']\n",
      "['27.9', '-76.98', '759.67']\n",
      "['28.0', '-77.20', '751.97']\n",
      "['28.1', '-77.41', '744.25']\n",
      "['28.2', '-77.63', '736.51']\n",
      "['28.3', '-77.83', '728.75']\n",
      "['28.4', '-78.03', '720.97']\n",
      "['28.5', '-78.23', '713.16']\n",
      "['28.6', '-78.43', '705.34']\n",
      "['28.7', '-78.62', '697.50']\n",
      "['28.8', '-78.80', '689.64']\n",
      "['28.9', '-78.99', '681.75']\n",
      "['29.0', '-79.17', '673.86']\n",
      "['29.1', '-79.34', '665.94']\n",
      "['29.2', '-79.51', '658.01']\n",
      "['29.3', '-79.68', '650.05']\n",
      "['29.4', '-79.85', '642.09']\n",
      "['29.5', '-80.01', '634.10']\n",
      "['29.6', '-80.17', '626.10']\n",
      "['29.7', '-80.32', '618.08']\n",
      "['29.8', '-80.47', '610.05']\n",
      "['29.9', '-80.62', '602.00']\n",
      "['30.0', '-80.77', '593.94']\n",
      "['30.1', '-80.91', '585.87']\n",
      "['30.2', '-81.05', '577.77']\n",
      "['30.3', '-81.19', '569.67']\n",
      "['30.4', '-81.32', '561.55']\n",
      "['30.5', '-81.45', '553.42']\n",
      "['30.6', '-81.58', '545.27']\n",
      "['30.7', '-81.70', '537.12']\n",
      "['30.8', '-81.83', '528.95']\n",
      "['30.9', '-81.95', '520.76']\n",
      "['31.0', '-82.07', '512.57']\n",
      "['31.1', '-82.18', '504.36']\n",
      "['31.2', '-82.29', '496.14']\n",
      "['31.3', '-82.40', '487.91']\n",
      "['31.4', '-82.51', '479.67']\n",
      "['31.5', '-82.62', '471.42']\n",
      "['31.6', '-82.72', '463.16']\n",
      "['31.7', '-82.82', '454.89']\n",
      "['31.8', '-82.92', '446.61']\n",
      "['31.9', '-83.02', '438.31']\n",
      "['32.0', '-83.12', '430.01']\n",
      "['32.1', '-83.21', '421.70']\n",
      "['32.2', '-83.30', '413.38']\n",
      "['32.3', '-83.39', '405.05']\n",
      "['32.4', '-83.48', '396.71']\n",
      "['32.5', '-83.56', '388.36']\n",
      "['32.6', '-83.65', '380.01']\n",
      "['32.7', '-83.73', '371.64']\n",
      "['32.8', '-83.81', '363.27']\n",
      "['32.9', '-83.89', '354.89']\n",
      "['33.0', '-83.96', '346.50']\n",
      "['33.1', '-84.04', '338.10']\n",
      "['33.2', '-84.11', '329.70']\n",
      "['33.3', '-84.18', '321.29']\n",
      "['33.4', '-84.25', '312.87']\n",
      "['33.5', '-84.32', '304.45']\n",
      "['33.6', '-84.39', '296.01']\n",
      "['33.7', '-84.45', '287.57']\n",
      "['33.8', '-84.52', '279.13']\n",
      "['33.9', '-84.58', '270.68']\n",
      "['34.0', '-84.64', '262.22']\n",
      "['34.1', '-84.70', '253.76']\n",
      "['34.2', '-84.76', '245.28']\n",
      "['34.3', '-84.82', '236.81']\n",
      "['34.4', '-84.87', '228.33']\n",
      "['34.5', '-84.93', '219.84']\n",
      "['34.6', '-84.98', '211.35']\n",
      "['34.7', '-85.04', '202.85']\n",
      "['34.8', '-85.09', '194.34']\n",
      "['34.9', '-85.14', '185.84']\n",
      "['35.0', '-85.19', '177.32']\n",
      "['35.1', '-85.24', '168.80']\n",
      "['35.2', '-85.28', '160.28']\n",
      "['35.3', '-85.33', '151.75']\n",
      "['35.4', '-85.37', '143.22']\n",
      "['35.5', '-85.42', '134.68']\n",
      "['35.6', '-85.46', '126.14']\n",
      "['35.7', '-85.50', '117.59']\n",
      "['35.8', '-85.55', '109.04']\n",
      "['35.9', '-85.59', '100.49']\n",
      "['36.0', '-85.63', '91.93']\n",
      "['36.1', '-85.66', '83.37']\n",
      "['36.2', '-85.70', '74.80']\n",
      "['36.3', '-85.74', '66.23']\n",
      "['36.4', '-85.78', '57.66']\n",
      "['36.5', '-85.81', '49.08']\n",
      "['36.6', '-85.85', '40.50']\n",
      "['36.7', '-85.88', '31.91']\n",
      "['36.8', '-85.91', '23.32']\n",
      "['36.9', '-85.94', '14.73']\n",
      "['37.0', '-85.98', '6.14']\n",
      "['37.1', '-86.01', '-2.46']\n"
     ]
    }
   ],
   "source": [
    "print([t[0],v[0],h[0]])\n",
    "n=1\n",
    "while h[n-1]>=0.0:\n",
    "    h[n]=h[n-1]+v[n-1]*dt\n",
    "    v[n]=v[n-1]+dt*derivativev(n-1,v[n-1])\n",
    "    t[n]=t[n-1]+dt\n",
    " \n",
    "    print([(\"%.1f\" % t[n]),(\"%.2f\" % v[n]),(\"%.2f\" % h[n])])\n",
    "    \n",
    "    n=n+1\n"
   ]
  },
  {
   "cell_type": "markdown",
   "metadata": {},
   "source": [
    "### Graphiques #\n",
    "\n",
    "Voici deux graphiques permettant de visualiser la solution du problème. \n",
    "\n",
    "Le premier reprend l'altitude de la fusée en fonction du temps, entre le décollage et le crash au sol. \n",
    "\n",
    "Le second reprend la vitesse de la fusée en fonction du temps du décollage au crash. (Nous avons rajouté en bleu la ligne des abscisses pour une meilleure lisibilité du graphique)\n",
    "\n",
    "Nous pouvons constater que notre solution est cohérente avec le système physique que l'on veut décrire: l'altitude augmente rapidement jusqu'à épuisement de l'énergie cinétique de la fusée (qui survient peu de temps après son épuisement de carburant) et retombe \"plus lentement\" vers le sol. La vitesse augmente très rapidement jusqu'à épuisement du carburant et diminue ensuite rapidement. L'instant où la vitesse est nulle correspond à l'altitude la plus haute atteinte par la fusée."
   ]
  },
  {
   "cell_type": "code",
   "execution_count": 9,
   "metadata": {
    "collapsed": false
   },
   "outputs": [
    {
     "data": {
      "text/plain": [
       "[<matplotlib.lines.Line2D at 0x7f159c187eb8>]"
      ]
     },
     "execution_count": 9,
     "metadata": {},
     "output_type": "execute_result"
    },
    {
     "data": {
      "image/png": "[encoded data removed]",
      "text/plain": [
       "<matplotlib.figure.Figure at 0x7f159e94a0b8>"
      ]
     },
     "metadata": {},
     "output_type": "display_data"
    }
   ],
   "source": [
    "pyplot.figure(figsize=(10,4))   #set plot size\n",
    "pyplot.ylim(0,1500)             #y-axis plot limits\n",
    "pyplot.tick_params(axis='both', labelsize=14) #increase font size for ticks\n",
    "pyplot.xlabel('t(temps)', fontsize=14) #x label\n",
    "pyplot.ylabel('h (altitude)', fontsize=14) #y label\n",
    "pyplot.plot(t[0:n-1],h[0:n-1], 'k-')"
   ]
  },
  {
   "cell_type": "code",
   "execution_count": 10,
   "metadata": {
    "collapsed": false
   },
   "outputs": [
    {
     "data": {
      "text/plain": [
       "[<matplotlib.lines.Line2D at 0x7f159bfb4ba8>]"
      ]
     },
     "execution_count": 10,
     "metadata": {},
     "output_type": "execute_result"
    },
    {
     "data": {
      "image/png": "[encoded data removed]",
      "text/plain": [
       "<matplotlib.figure.Figure at 0x7f159c194ac8>"
      ]
     },
     "metadata": {},
     "output_type": "display_data"
    }
   ],
   "source": [
    "pyplot.figure(figsize=(10,4))   #set plot size\n",
    "pyplot.ylim(-320,320)             #y-axis plot limits\n",
    "pyplot.tick_params(axis='both', labelsize=14) #increase font size for ticks\n",
    "pyplot.xlabel('t (temps)', fontsize=14) #x label\n",
    "pyplot.ylabel('v (vitesse)', fontsize=14) #y label\n",
    "pyplot.plot(t[0:n-1],v[0:n-1], 'k-')\n",
    "pyplot.plot(t[0:n-1],numpy.zeros(n-1))"
   ]
  },
  {
   "cell_type": "markdown",
   "metadata": {
    "collapsed": true
   },
   "source": [
    "### Questions #\n"
   ]
  },
  {
   "cell_type": "markdown",
   "metadata": {
    "collapsed": true
   },
   "source": [
    "$\\underline{Q1.}$ \n",
    "\n",
    "- Quelle masse de carburant la fusée contient-elle à t = 3,2s ?"
   ]
  },
  {
   "cell_type": "markdown",
   "metadata": {},
   "source": [
    "La position dans la liste t correspondant à t = 3,2s sera atteinte à la 32ème étape, étant donné que le pas est de 0.1s. On peut donc trouver la masse de carburant à l'aide de la fonction que nous avons utilisée précédemment :"
   ]
  },
  {
   "cell_type": "code",
   "execution_count": 11,
   "metadata": {
    "collapsed": false
   },
   "outputs": [
    {
     "name": "stdout",
     "output_type": "stream",
     "text": [
      "36.0 kg\n"
     ]
    }
   ],
   "source": [
    "print (mp_value(32), 'kg')"
   ]
  },
  {
   "cell_type": "markdown",
   "metadata": {},
   "source": [
    "  "
   ]
  },
  {
   "cell_type": "markdown",
   "metadata": {},
   "source": [
    " $\\underline{Q2.}$ \n",
    " - Quelle est, arrondie à deux décimales, la vitesse maximale atteinte ? "
   ]
  },
  {
   "cell_type": "markdown",
   "metadata": {},
   "source": [
    "La vitesse sera maximale quand la masse de carburant passera à 0kg. Dès que la fusée ne possède plus de carburant, sa vitesse ne peut que décroître, aucune force n'agissant plus dès lors pour l'accélérer (c'est-à-dire, pour lui donner une accélération positive). Cette boucle permet de calculer cette vitesse:"
   ]
  },
  {
   "cell_type": "code",
   "execution_count": 13,
   "metadata": {
    "collapsed": false
   },
   "outputs": [
    {
     "name": "stdout",
     "output_type": "stream",
     "text": [
      "232.11 m/s\n"
     ]
    }
   ],
   "source": [
    "j=0\n",
    "while mp_value(j)>0. :\n",
    "    j=j+1\n",
    "\n",
    "print (round(v[j-1],2), 'm/s')"
   ]
  },
  {
   "cell_type": "markdown",
   "metadata": {},
   "source": [
    "- A quel instant cette vitesse est-elle atteinte ?"
   ]
  },
  {
   "cell_type": "markdown",
   "metadata": {},
   "source": [
    "On prend l'élément correspondant dans la liste t."
   ]
  },
  {
   "cell_type": "code",
   "execution_count": 14,
   "metadata": {
    "collapsed": false
   },
   "outputs": [
    {
     "name": "stdout",
     "output_type": "stream",
     "text": [
      "5.0 s\n"
     ]
    }
   ],
   "source": [
    "print (round(t[j-1],2), 's')"
   ]
  },
  {
   "cell_type": "markdown",
   "metadata": {},
   "source": [
    "- A quelle altitude est la fusée à cet instant ?"
   ]
  },
  {
   "cell_type": "markdown",
   "metadata": {},
   "source": [
    "On prend l'élément correspondant dans la liste h."
   ]
  },
  {
   "cell_type": "code",
   "execution_count": 15,
   "metadata": {
    "collapsed": false
   },
   "outputs": [
    {
     "name": "stdout",
     "output_type": "stream",
     "text": [
      "523.52 m\n"
     ]
    }
   ],
   "source": [
    "print (round(h[j-1],2), 'm')"
   ]
  },
  {
   "cell_type": "markdown",
   "metadata": {},
   "source": [
    "  "
   ]
  },
  {
   "cell_type": "markdown",
   "metadata": {},
   "source": [
    "\n",
    "$\\underline{Q3.}$ \n",
    " - Quelle est, arrondie à deux décimales, l'altitude maximale atteinte ? "
   ]
  },
  {
   "cell_type": "markdown",
   "metadata": {},
   "source": [
    "Par conservation de l'énergie mécanique, l'altitude maximale est atteinte lorsque la vitesse devient nulle. Etant donné la discrétisation de nos valeurs, nous devons regarder l'étape à laquelle la vitesse change de signe: elle prend pour la première fois une valeur négative. Il est important de demander que la vitesse soit négative, et pas nulle car la vitesse initiale est nulle et cela poserait problème.\n",
    "On peut donc écrire :"
   ]
  },
  {
   "cell_type": "code",
   "execution_count": 18,
   "metadata": {
    "collapsed": false
   },
   "outputs": [
    {
     "name": "stdout",
     "output_type": "stream",
     "text": [
      "1334.11 m\n"
     ]
    }
   ],
   "source": [
    "k=0\n",
    "while v[k]>=0. :\n",
    "    k=k+1\n",
    "\n",
    "print (round(h[k-1],2), 'm')"
   ]
  },
  {
   "cell_type": "markdown",
   "metadata": {},
   "source": [
    "- A quel instant cette altitude est-elle atteinte ?"
   ]
  },
  {
   "cell_type": "markdown",
   "metadata": {},
   "source": [
    "On prend l'élément correspondant dans la liste t."
   ]
  },
  {
   "cell_type": "code",
   "execution_count": 19,
   "metadata": {
    "collapsed": false
   },
   "outputs": [
    {
     "name": "stdout",
     "output_type": "stream",
     "text": [
      "15.6 s\n"
     ]
    }
   ],
   "source": [
    "print (round(t[k-1],2), 's')"
   ]
  },
  {
   "cell_type": "markdown",
   "metadata": {},
   "source": [
    "  "
   ]
  },
  {
   "cell_type": "markdown",
   "metadata": {},
   "source": [
    "\n",
    "$\\underline{Q4.}$ \n",
    " - A quel instant l'impact avec le sol a-t-il lieu ? "
   ]
  },
  {
   "cell_type": "markdown",
   "metadata": {},
   "source": [
    "La boucle qui a permis de construire nos listes de temps, vitesses et altitudes s'est arrêtée à la première occurrence d'un h négatif (au premier instant après l'impact). On doit donc prendre le temps en position [n-1] dans la list t."
   ]
  },
  {
   "cell_type": "code",
   "execution_count": 20,
   "metadata": {
    "collapsed": false
   },
   "outputs": [
    {
     "name": "stdout",
     "output_type": "stream",
     "text": [
      "37.1 s\n"
     ]
    }
   ],
   "source": [
    "print (round(t[n-1],2), 's')"
   ]
  },
  {
   "cell_type": "markdown",
   "metadata": {},
   "source": [
    "- Quelle est la vitesse de l'engin au moment de l'impact ?"
   ]
  },
  {
   "cell_type": "markdown",
   "metadata": {},
   "source": [
    "De même pour v :"
   ]
  },
  {
   "cell_type": "code",
   "execution_count": 21,
   "metadata": {
    "collapsed": false
   },
   "outputs": [
    {
     "name": "stdout",
     "output_type": "stream",
     "text": [
      "-86.01 m/s\n"
     ]
    }
   ],
   "source": [
    "print (round(v[n-1],2), 'm/s')"
   ]
  },
  {
   "cell_type": "code",
   "execution_count": null,
   "metadata": {
    "collapsed": true
   },
   "outputs": [],
   "source": []
  }
 ],
 "metadata": {
  "anaconda-cloud": {},
  "kernelspec": {
   "display_name": "Python [default]",
   "language": "python",
   "name": "python3"
  },
  "language_info": {
   "codemirror_mode": {
    "name": "ipython",
    "version": 3
   },
   "file_extension": ".py",
   "mimetype": "text/x-python",
   "name": "python",
   "nbconvert_exporter": "python",
   "pygments_lexer": "ipython3",
   "version": "3.5.2"
  }
 },
 "nbformat": 4,
 "nbformat_minor": 0
}
