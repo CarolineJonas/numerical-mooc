{
 "cells": [
  {
   "cell_type": "markdown",
   "metadata": {},
   "source": [
    "***Méthodes numériques:Module 1.***\n",
    "*********************************\n",
    "Modélisation du vol d'une fusée.\n",
    "==\n",
    "### But #\n",
    "\n",
    "\n",
    "Calculer, selon la méthode d'Euler, l'altitude et la vitesse d'une fusée qui possède une certaine masse de carburant initiale et qui la consume à un taux constant, de son lancer jusqu'à l'impact avec le sol.\n",
    "\n",
    "Nous considérons ce mouvement seulement dans la direction verticale de l'espace. La vitesse est donc la vitesse verticale de la fusée."
   ]
  },
  {
   "cell_type": "code",
   "execution_count": 18,
   "metadata": {
    "collapsed": false
   },
   "outputs": [],
   "source": [
    "import numpy\n",
    "from matplotlib import pyplot\n",
    "%matplotlib inline"
   ]
  },
  {
   "cell_type": "markdown",
   "metadata": {},
   "source": [
    "### Principe #\n",
    "\n",
    "\n",
    "Les équations différentielles de ce problème sont:  \n",
    "* $$\\frac{dh}{dt}=v$$ \n",
    "* $$\\frac{dv}{dt}=-g+\\frac{\\dot{m_{p}}}{m_{s}+m{p}}ve - \\frac{1}{2}\\frac{\\rho v \\mid{v}\\mid AC_{D}}{mp+ms}$$\n",
    "\n",
    "où\n",
    "* mp est la masse de carburant donnée par $$m_p = m_{po} - \\int^t_0 \\dot{m}_p d\\tau$$\n",
    "* $\\dot{mp}$ est le taux de consommation du carburant, qui vaut 20 $\\frac{kg}{s}$ entre t=0.0 et t=5.0 et qui vaut 0 $\\frac{kg}{s}$ ensuite.  \n",
    "* $\\rho$ est la masse volumique de l'air (supposée constante)\n",
    "* g est la constante gravitationnelle g=9.81 $\\frac{m}{s^2}$\n",
    "* ms est la masse de la fusée\n",
    "* A est la section maximale de la fusée (donnée par $\\pi*r²$)\n",
    "* CD est le coefficient de traînée\n",
    "* ve est la vitesse limite \n",
    "* v est la vitesse de la fusée\n",
    "* h est la hauteur de la fusée\n",
    "\n",
    "D'après la méthode d'Euler, on peut résoudre numériquement ces équations à partir des valeurs initiales d'altitude et de vitesse en avançant par pas de t=dt.\n",
    "* $$h_{n+1}=h_{n}+v_{n}dt$$ \n",
    "* $$v_{n+1}=v_{n}+dt*(-g+\\frac{\\dot{m_{p}}}{m_{s}+m{p}}ve - \\frac{1}{2}\\frac{\\rho v \\mid{v}\\mid AC_{D}}{ms+mp})$$\n",
    "Nous allons calculer les valeurs de h(altitude de la fusée) et v(vitesse) entre t=0 et t=T(temps final où la fusée se crashe) toutes les dt=0.1s et les reporter dans un tableau et dans deux graphiques: altitude en fonction du temps et vitesse en fonction du temps. Nous pourrons ensuite répondre aux questions posées dans le problème."
   ]
  },
  {
   "cell_type": "markdown",
   "metadata": {
    "collapsed": true
   },
   "source": [
    "### Paramètres du problème #"
   ]
  },
  {
   "cell_type": "code",
   "execution_count": 19,
   "metadata": {
    "collapsed": false
   },
   "outputs": [],
   "source": [
    "g=9.81\n",
    "p=1.091\n",
    "r=0.5\n",
    "A=numpy.pi*r**2\n",
    "ve=325.0\n",
    "ms=50.0\n",
    "CD=0.15\n",
    "dt=0.1\n",
    "N=1000\n",
    "v=numpy.zeros(N)\n",
    "h=numpy.zeros(N)\n",
    "t=numpy.zeros(N)\n",
    "v[0]=0.0\n",
    "h[0]=0.0\n",
    "t[0]=0.0"
   ]
  },
  {
   "cell_type": "markdown",
   "metadata": {},
   "source": [
    "En plus des données initiales et paramètres donnés, nous créons trois listes qui serviront à stocker les données récoltées pour le temps t, l'altitude h et la vitesse v.\n",
    "\n",
    "Nous ne connaissons pas à l'avance la taille N que doivent avoir nos listes pour couvrir l'entièreté du problème, c'est-à-dire jusqu'à ce que la fusée retombe au sol. Néanmoins nous pouvons faire une estimation sur base du problème physique. Chaque étape dure 0.1s et la fusée possède du carburant jusqu'à la 5ème seconde. L'ordre de grandeur du temps mis pour effectuer la trajectoire sera donc compris entre environ 10 secondes et 100 secondes. Comme le nombre d'étapes reste raisonnable et que le calcul n'est pas trop complexe, on peut prendre une borne supérieure de t=100s, ce qui correspond à N=1000.\n",
    "\n",
    "\n",
    "### Définition des fonctions #\n",
    "\n",
    "Pour alléger le code et pour permettre la réutilisation de celui-ci pour des équations légèrement différentes, nous allons créer trois fonctions:\n",
    "* mp_value(i)  calcule la valeur de mp, la masse de carburant à l'instant t=i*dt \n",
    "* mp_dot(t)  nous permet de disposer de la valeur de $\\dot{mp}$en l'instant t=i*dt\n",
    "* derivativev(i,v0) donne la dérivée de la vitesse v au temps t=i*dt et à une vitesse v0.\n",
    "\n",
    "Pour être tout à fait systématique, nous devrions faire de même pour la dérivée de h, mais cela ne nous semble pas judicieux du point de vue de la clarté étant donnée que cette dérivée est constante."
   ]
  },
  {
   "cell_type": "code",
   "execution_count": 20,
   "metadata": {
    "collapsed": false
   },
   "outputs": [],
   "source": [
    "def mp_value(i):\n",
    "    if i<50:\n",
    "        mp=100.0-20.0*t[i]\n",
    "    else:\n",
    "        mp=0\n",
    "    return mp  "
   ]
  },
  {
   "cell_type": "code",
   "execution_count": 21,
   "metadata": {
    "collapsed": true
   },
   "outputs": [],
   "source": [
    "def mp_dot(i):\n",
    "    if i<50:\n",
    "        mpdot=20.0\n",
    "    else:\n",
    "        mpdot=0.0\n",
    "    return mpdot"
   ]
  },
  {
   "cell_type": "code",
   "execution_count": 22,
   "metadata": {
    "collapsed": true
   },
   "outputs": [],
   "source": [
    "def derivativev(i,v0):\n",
    "    derivativev=(-g+ ((mp_dot(i)/(ms+mp_value(i)))*ve)- ((0.5)*p*v0*abs(v0)*A*CD)/(mp_value(i)+ms))\n",
    "    return derivativev "
   ]
  },
  {
   "cell_type": "markdown",
   "metadata": {},
   "source": [
    "### Calcul des valeurs de h et de v#\n",
    "\n",
    "Nous implémentons le calcul des valeurs successives de h et v par une boucle while.\n",
    "Nous demandons ensuite d'imprimer ces valeurs dans une liste à trois entrées reprenant l'instant t, la vitesse v et enfin l'altitude h. Comme les nombres réels sont stockés sur 64 bits, la précision est de $10^{-15}$. La valeur de t est donc précise à cette erreur près. Pour clarifier la liste des résultats nous limitons le nombre de décimales à imprimer à une pour le temps et à deux pour la vitesse et l'altitude (car le nombre de chiffres significatifs est de 3 dans les données du problème)."
   ]
  },
  {
   "cell_type": "code",
   "execution_count": 23,
   "metadata": {
    "collapsed": false
   },
   "outputs": [
    {
     "name": "stdout",
     "output_type": "stream",
     "text": [
      "[0.0, 0.0, 0.0]\n",
      "['0.1', '3.35', '0.00']\n",
      "['0.2', '6.76', '0.34']\n",
      "['0.3', '10.23', '1.01']\n",
      "['0.4', '13.76', '2.03']\n",
      "['0.5', '17.35', '3.41']\n",
      "['0.6', '21.00', '5.15']\n",
      "['0.7', '24.70', '7.25']\n",
      "['0.8', '28.47', '9.72']\n",
      "['0.9', '32.30', '12.56']\n",
      "['1.0', '36.20', '15.79']\n",
      "['1.1', '40.15', '19.41']\n",
      "['1.2', '44.17', '23.43']\n",
      "['1.3', '48.25', '27.85']\n",
      "['1.4', '52.39', '32.67']\n",
      "['1.5', '56.59', '37.91']\n",
      "['1.6', '60.85', '43.57']\n",
      "['1.7', '65.18', '49.65']\n",
      "['1.8', '69.57', '56.17']\n",
      "['1.9', '74.01', '63.13']\n",
      "['2.0', '78.52', '70.53']\n",
      "['2.1', '83.09', '78.38']\n",
      "['2.2', '87.72', '86.69']\n",
      "['2.3', '92.40', '95.46']\n",
      "['2.4', '97.14', '104.70']\n",
      "['2.5', '101.94', '114.42']\n",
      "['2.6', '106.79', '124.61']\n",
      "['2.7', '111.69', '135.29']\n",
      "['2.8', '116.65', '146.46']\n",
      "['2.9', '121.65', '158.12']\n",
      "['3.0', '126.70', '170.29']\n",
      "['3.1', '131.80', '182.96']\n",
      "['3.2', '136.93', '196.14']\n",
      "['3.3', '142.11', '209.83']\n",
      "['3.4', '147.32', '224.04']\n",
      "['3.5', '152.57', '238.78']\n",
      "['3.6', '157.84', '254.03']\n",
      "['3.7', '163.14', '269.82']\n",
      "['3.8', '168.46', '286.13']\n",
      "['3.9', '173.80', '302.98']\n",
      "['4.0', '179.15', '320.36']\n",
      "['4.1', '184.51', '338.27']\n",
      "['4.2', '189.87', '356.72']\n",
      "['4.3', '195.23', '375.71']\n",
      "['4.4', '200.58', '395.23']\n",
      "['4.5', '205.91', '415.29']\n",
      "['4.6', '211.22', '435.88']\n",
      "['4.7', '216.50', '457.00']\n",
      "['4.8', '221.75', '478.65']\n",
      "['4.9', '226.95', '500.83']\n",
      "['5.0', '232.11', '523.52']\n",
      "['5.1', '224.20', '546.73']\n",
      "['5.2', '216.76', '569.15']\n",
      "['5.3', '209.74', '590.83']\n",
      "['5.4', '203.10', '611.80']\n",
      "['5.5', '196.82', '632.11']\n",
      "['5.6', '190.86', '651.80']\n",
      "['5.7', '185.20', '670.88']\n",
      "['5.8', '179.81', '689.40']\n",
      "['5.9', '174.67', '707.38']\n",
      "['6.0', '169.77', '724.85']\n",
      "['6.1', '165.08', '741.83']\n",
      "['6.2', '160.60', '758.34']\n",
      "['6.3', '156.30', '774.40']\n",
      "['6.4', '152.18', '790.03']\n",
      "['6.5', '148.23', '805.24']\n",
      "['6.6', '144.42', '820.07']\n",
      "['6.7', '140.76', '834.51']\n",
      "['6.8', '137.23', '848.58']\n",
      "['6.9', '133.83', '862.31']\n",
      "['7.0', '130.55', '875.69']\n",
      "['7.1', '127.37', '888.74']\n",
      "['7.2', '124.31', '901.48']\n",
      "['7.3', '121.34', '913.91']\n",
      "['7.4', '118.47', '926.05']\n",
      "['7.5', '115.68', '937.89']\n",
      "['7.6', '112.98', '949.46']\n",
      "['7.7', '110.36', '960.76']\n",
      "['7.8', '107.81', '971.80']\n",
      "['7.9', '105.34', '982.58']\n",
      "['8.0', '102.93', '993.11']\n",
      "['8.1', '100.59', '1003.41']\n",
      "['8.2', '98.31', '1013.46']\n",
      "['8.3', '96.08', '1023.29']\n",
      "['8.4', '93.92', '1032.90']\n",
      "['8.5', '91.80', '1042.29']\n",
      "['8.6', '89.74', '1051.48']\n",
      "['8.7', '87.72', '1060.45']\n",
      "['8.8', '85.75', '1069.22']\n",
      "['8.9', '83.83', '1077.80']\n",
      "['9.0', '81.94', '1086.18']\n",
      "['9.1', '80.10', '1094.37']\n",
      "['9.2', '78.29', '1102.38']\n",
      "['9.3', '76.52', '1110.21']\n",
      "['9.4', '74.79', '1117.86']\n",
      "['9.5', '73.09', '1125.34']\n",
      "['9.6', '71.42', '1132.65']\n",
      "['9.7', '69.79', '1139.79']\n",
      "['9.8', '68.18', '1146.77']\n",
      "['9.9', '66.60', '1153.59']\n",
      "['10.0', '65.05', '1160.25']\n",
      "['10.1', '63.52', '1166.76']\n",
      "['10.2', '62.02', '1173.11']\n",
      "['10.3', '60.55', '1179.31']\n",
      "['10.4', '59.10', '1185.37']\n",
      "['10.5', '57.67', '1191.27']\n",
      "['10.6', '56.26', '1197.04']\n",
      "['10.7', '54.87', '1202.67']\n",
      "['10.8', '53.50', '1208.15']\n",
      "['10.9', '52.15', '1213.50']\n",
      "['11.0', '50.82', '1218.72']\n",
      "['11.1', '49.51', '1223.80']\n",
      "['11.2', '48.21', '1228.75']\n",
      "['11.3', '46.93', '1233.57']\n",
      "['11.4', '45.67', '1238.27']\n",
      "['11.5', '44.42', '1242.83']\n",
      "['11.6', '43.19', '1247.28']\n",
      "['11.7', '41.97', '1251.60']\n",
      "['11.8', '40.76', '1255.79']\n",
      "['11.9', '39.56', '1259.87']\n",
      "['12.0', '38.38', '1263.82']\n",
      "['12.1', '37.21', '1267.66']\n",
      "['12.2', '36.05', '1271.38']\n",
      "['12.3', '34.90', '1274.99']\n",
      "['12.4', '33.77', '1278.48']\n",
      "['12.5', '32.64', '1281.86']\n",
      "['12.6', '31.52', '1285.12']\n",
      "['12.7', '30.41', '1288.27']\n",
      "['12.8', '29.31', '1291.31']\n",
      "['12.9', '28.22', '1294.24']\n",
      "['13.0', '27.14', '1297.07']\n",
      "['13.1', '26.06', '1299.78']\n",
      "['13.2', '24.99', '1302.39']\n",
      "['13.3', '23.93', '1304.89']\n",
      "['13.4', '22.88', '1307.28']\n",
      "['13.5', '21.83', '1309.57']\n",
      "['13.6', '20.79', '1311.75']\n",
      "['13.7', '19.75', '1313.83']\n",
      "['13.8', '18.72', '1315.80']\n",
      "['13.9', '17.69', '1317.68']\n",
      "['14.0', '16.67', '1319.44']\n",
      "['14.1', '15.66', '1321.11']\n",
      "['14.2', '14.64', '1322.68']\n",
      "['14.3', '13.63', '1324.14']\n",
      "['14.4', '12.63', '1325.51']\n",
      "['14.5', '11.63', '1326.77']\n",
      "['14.6', '10.63', '1327.93']\n",
      "['14.7', '9.63', '1328.99']\n",
      "['14.8', '8.64', '1329.96']\n",
      "['14.9', '7.65', '1330.82']\n",
      "['15.0', '6.66', '1331.59']\n",
      "['15.1', '5.68', '1332.25']\n",
      "['15.2', '4.69', '1332.82']\n",
      "['15.3', '3.71', '1333.29']\n",
      "['15.4', '2.72', '1333.66']\n",
      "['15.5', '1.74', '1333.93']\n",
      "['15.6', '0.76', '1334.11']\n",
      "['15.7', '-0.22', '1334.18']\n",
      "['15.8', '-1.20', '1334.16']\n",
      "['15.9', '-2.18', '1334.04']\n",
      "['16.0', '-3.16', '1333.82']\n",
      "['16.1', '-4.14', '1333.51']\n",
      "['16.2', '-5.12', '1333.09']\n",
      "['16.3', '-6.10', '1332.58']\n",
      "['16.4', '-7.08', '1331.97']\n",
      "['16.5', '-8.05', '1331.26']\n",
      "['16.6', '-9.02', '1330.46']\n",
      "['16.7', '-9.99', '1329.56']\n",
      "['16.8', '-10.96', '1328.56']\n",
      "['16.9', '-11.93', '1327.46']\n",
      "['17.0', '-12.89', '1326.27']\n",
      "['17.1', '-13.85', '1324.98']\n",
      "['17.2', '-14.81', '1323.59']\n",
      "['17.3', '-15.76', '1322.11']\n",
      "['17.4', '-16.71', '1320.54']\n",
      "['17.5', '-17.65', '1318.87']\n",
      "['17.6', '-18.59', '1317.10']\n",
      "['17.7', '-19.53', '1315.24']\n",
      "['17.8', '-20.46', '1313.29']\n",
      "['17.9', '-21.39', '1311.24']\n",
      "['18.0', '-22.31', '1309.10']\n",
      "['18.1', '-23.23', '1306.87']\n",
      "['18.2', '-24.14', '1304.55']\n",
      "['18.3', '-25.05', '1302.14']\n",
      "['18.4', '-25.95', '1299.63']\n",
      "['18.5', '-26.84', '1297.04']\n",
      "['18.6', '-27.73', '1294.35']\n",
      "['18.7', '-28.61', '1291.58']\n",
      "['18.8', '-29.49', '1288.72']\n",
      "['18.9', '-30.36', '1285.77']\n",
      "['19.0', '-31.22', '1282.73']\n",
      "['19.1', '-32.07', '1279.61']\n",
      "['19.2', '-32.92', '1276.40']\n",
      "['19.3', '-33.77', '1273.11']\n",
      "['19.4', '-34.60', '1269.74']\n",
      "['19.5', '-35.43', '1266.28']\n",
      "['19.6', '-36.25', '1262.73']\n",
      "['19.7', '-37.06', '1259.11']\n",
      "['19.8', '-37.86', '1255.40']\n",
      "['19.9', '-38.66', '1251.62']\n",
      "['20.0', '-39.45', '1247.75']\n",
      "['20.1', '-40.23', '1243.80']\n",
      "['20.2', '-41.00', '1239.78']\n",
      "['20.3', '-41.77', '1235.68']\n",
      "['20.4', '-42.52', '1231.50']\n",
      "['20.5', '-43.27', '1227.25']\n",
      "['20.6', '-44.01', '1222.93']\n",
      "['20.7', '-44.75', '1218.52']\n",
      "['20.8', '-45.47', '1214.05']\n",
      "['20.9', '-46.18', '1209.50']\n",
      "['21.0', '-46.89', '1204.88']\n",
      "['21.1', '-47.59', '1200.19']\n",
      "['21.2', '-48.28', '1195.44']\n",
      "['21.3', '-48.96', '1190.61']\n",
      "['21.4', '-49.63', '1185.71']\n",
      "['21.5', '-50.30', '1180.75']\n",
      "['21.6', '-50.95', '1175.72']\n",
      "['21.7', '-51.60', '1170.62']\n",
      "['21.8', '-52.24', '1165.46']\n",
      "['21.9', '-52.87', '1160.24']\n",
      "['22.0', '-53.49', '1154.95']\n",
      "['22.1', '-54.11', '1149.60']\n",
      "['22.2', '-54.71', '1144.19']\n",
      "['22.3', '-55.31', '1138.72']\n",
      "['22.4', '-55.89', '1133.19']\n",
      "['22.5', '-56.47', '1127.60']\n",
      "['22.6', '-57.04', '1121.95']\n",
      "['22.7', '-57.61', '1116.25']\n",
      "['22.8', '-58.16', '1110.49']\n",
      "['22.9', '-58.71', '1104.67']\n",
      "['23.0', '-59.25', '1098.80']\n",
      "['23.1', '-59.78', '1092.88']\n",
      "['23.2', '-60.30', '1086.90']\n",
      "['23.3', '-60.81', '1080.87']\n",
      "['23.4', '-61.32', '1074.79']\n",
      "['23.5', '-61.81', '1068.66']\n",
      "['23.6', '-62.30', '1062.48']\n",
      "['23.7', '-62.79', '1056.25']\n",
      "['23.8', '-63.26', '1049.97']\n",
      "['23.9', '-63.73', '1043.64']\n",
      "['24.0', '-64.19', '1037.27']\n",
      "['24.1', '-64.64', '1030.85']\n",
      "['24.2', '-65.08', '1024.39']\n",
      "['24.3', '-65.52', '1017.88']\n",
      "['24.4', '-65.95', '1011.33']\n",
      "['24.5', '-66.37', '1004.73']\n",
      "['24.6', '-66.78', '998.09']\n",
      "['24.7', '-67.19', '991.41']\n",
      "['24.8', '-67.59', '984.70']\n",
      "['24.9', '-67.99', '977.94']\n",
      "['25.0', '-68.37', '971.14']\n",
      "['25.1', '-68.75', '964.30']\n",
      "['25.2', '-69.13', '957.42']\n",
      "['25.3', '-69.49', '950.51']\n",
      "['25.4', '-69.85', '943.56']\n",
      "['25.5', '-70.21', '936.58']\n",
      "['25.6', '-70.56', '929.56']\n",
      "['25.7', '-70.90', '922.50']\n",
      "['25.8', '-71.23', '915.41']\n",
      "['25.9', '-71.56', '908.29']\n",
      "['26.0', '-71.88', '901.13']\n",
      "['26.1', '-72.20', '893.94']\n",
      "['26.2', '-72.51', '886.72']\n",
      "['26.3', '-72.82', '879.47']\n",
      "['26.4', '-73.12', '872.19']\n",
      "['26.5', '-73.41', '864.88']\n",
      "['26.6', '-73.70', '857.54']\n",
      "['26.7', '-73.98', '850.17']\n",
      "['26.8', '-74.26', '842.77']\n",
      "['26.9', '-74.53', '835.34']\n",
      "['27.0', '-74.80', '827.89']\n",
      "['27.1', '-75.06', '820.41']\n",
      "['27.2', '-75.32', '812.91']\n",
      "['27.3', '-75.57', '805.37']\n",
      "['27.4', '-75.82', '797.82']\n",
      "['27.5', '-76.06', '790.24']\n",
      "['27.6', '-76.30', '782.63']\n",
      "['27.7', '-76.53', '775.00']\n",
      "['27.8', '-76.76', '767.35']\n",
      "['27.9', '-76.98', '759.67']\n",
      "['28.0', '-77.20', '751.97']\n",
      "['28.1', '-77.41', '744.25']\n",
      "['28.2', '-77.63', '736.51']\n",
      "['28.3', '-77.83', '728.75']\n",
      "['28.4', '-78.03', '720.97']\n",
      "['28.5', '-78.23', '713.16']\n",
      "['28.6', '-78.43', '705.34']\n",
      "['28.7', '-78.62', '697.50']\n",
      "['28.8', '-78.80', '689.64']\n",
      "['28.9', '-78.99', '681.75']\n",
      "['29.0', '-79.17', '673.86']\n",
      "['29.1', '-79.34', '665.94']\n",
      "['29.2', '-79.51', '658.01']\n",
      "['29.3', '-79.68', '650.05']\n",
      "['29.4', '-79.85', '642.09']\n",
      "['29.5', '-80.01', '634.10']\n",
      "['29.6', '-80.17', '626.10']\n",
      "['29.7', '-80.32', '618.08']\n",
      "['29.8', '-80.47', '610.05']\n",
      "['29.9', '-80.62', '602.00']\n",
      "['30.0', '-80.77', '593.94']\n",
      "['30.1', '-80.91', '585.87']\n",
      "['30.2', '-81.05', '577.77']\n",
      "['30.3', '-81.19', '569.67']\n",
      "['30.4', '-81.32', '561.55']\n",
      "['30.5', '-81.45', '553.42']\n",
      "['30.6', '-81.58', '545.27']\n",
      "['30.7', '-81.70', '537.12']\n",
      "['30.8', '-81.83', '528.95']\n",
      "['30.9', '-81.95', '520.76']\n",
      "['31.0', '-82.07', '512.57']\n",
      "['31.1', '-82.18', '504.36']\n",
      "['31.2', '-82.29', '496.14']\n",
      "['31.3', '-82.40', '487.91']\n",
      "['31.4', '-82.51', '479.67']\n",
      "['31.5', '-82.62', '471.42']\n",
      "['31.6', '-82.72', '463.16']\n",
      "['31.7', '-82.82', '454.89']\n",
      "['31.8', '-82.92', '446.61']\n",
      "['31.9', '-83.02', '438.31']\n",
      "['32.0', '-83.12', '430.01']\n",
      "['32.1', '-83.21', '421.70']\n",
      "['32.2', '-83.30', '413.38']\n",
      "['32.3', '-83.39', '405.05']\n",
      "['32.4', '-83.48', '396.71']\n",
      "['32.5', '-83.56', '388.36']\n",
      "['32.6', '-83.65', '380.01']\n",
      "['32.7', '-83.73', '371.64']\n",
      "['32.8', '-83.81', '363.27']\n",
      "['32.9', '-83.89', '354.89']\n",
      "['33.0', '-83.96', '346.50']\n",
      "['33.1', '-84.04', '338.10']\n",
      "['33.2', '-84.11', '329.70']\n",
      "['33.3', '-84.18', '321.29']\n",
      "['33.4', '-84.25', '312.87']\n",
      "['33.5', '-84.32', '304.45']\n",
      "['33.6', '-84.39', '296.01']\n",
      "['33.7', '-84.45', '287.57']\n",
      "['33.8', '-84.52', '279.13']\n",
      "['33.9', '-84.58', '270.68']\n",
      "['34.0', '-84.64', '262.22']\n",
      "['34.1', '-84.70', '253.76']\n",
      "['34.2', '-84.76', '245.28']\n",
      "['34.3', '-84.82', '236.81']\n",
      "['34.4', '-84.87', '228.33']\n",
      "['34.5', '-84.93', '219.84']\n",
      "['34.6', '-84.98', '211.35']\n",
      "['34.7', '-85.04', '202.85']\n",
      "['34.8', '-85.09', '194.34']\n",
      "['34.9', '-85.14', '185.84']\n",
      "['35.0', '-85.19', '177.32']\n",
      "['35.1', '-85.24', '168.80']\n",
      "['35.2', '-85.28', '160.28']\n",
      "['35.3', '-85.33', '151.75']\n",
      "['35.4', '-85.37', '143.22']\n",
      "['35.5', '-85.42', '134.68']\n",
      "['35.6', '-85.46', '126.14']\n",
      "['35.7', '-85.50', '117.59']\n",
      "['35.8', '-85.55', '109.04']\n",
      "['35.9', '-85.59', '100.49']\n",
      "['36.0', '-85.63', '91.93']\n",
      "['36.1', '-85.66', '83.37']\n",
      "['36.2', '-85.70', '74.80']\n",
      "['36.3', '-85.74', '66.23']\n",
      "['36.4', '-85.78', '57.66']\n",
      "['36.5', '-85.81', '49.08']\n",
      "['36.6', '-85.85', '40.50']\n",
      "['36.7', '-85.88', '31.91']\n",
      "['36.8', '-85.91', '23.32']\n",
      "['36.9', '-85.94', '14.73']\n",
      "['37.0', '-85.98', '6.14']\n",
      "['37.1', '-86.01', '-2.46']\n"
     ]
    }
   ],
   "source": [
    "print([t[0],v[0],h[0]])\n",
    "n=1\n",
    "while h[n-1]>=0.0:\n",
    "    h[n]=h[n-1]+v[n-1]*dt\n",
    "    v[n]=v[n-1]+dt*derivativev(n-1,v[n-1])\n",
    "    t[n]=t[n-1]+dt\n",
    " \n",
    "    print([(\"%.1f\" % t[n]),(\"%.2f\" % v[n]),(\"%.2f\" % h[n])])\n",
    "    \n",
    "    n=n+1\n"
   ]
  },
  {
   "cell_type": "markdown",
   "metadata": {},
   "source": [
    "### Graphiques #\n",
    "\n",
    "Voici deux graphiques permettant de visualiser la solution du problème. \n",
    "\n",
    "Le premier reprend l'altitude de la fusée en fonction du temps, entre le décollage et le crash au sol. \n",
    "\n",
    "Le second reprend la vitesse de la fusée en fonction du temps du décollage au crash. \n",
    "\n",
    "Nous pouvons constater que notre solution est cohérente avec le système physique que l'on veut décrire: l'altitude augmente rapidement jusqu'à épuisement de son énergie potentielle (qui survient peu de temps après son épuisement de carburant) et retombe plus lentement vers le sol. La vitesse augmente très rapidement jusqu'à épuisement du carburant et diminue ensuite rapidement. L'instant où la vitesse est nulle correspond à l'altitude la plus haute atteinte par la fusée."
   ]
  },
  {
   "cell_type": "code",
   "execution_count": 24,
   "metadata": {
    "collapsed": false
   },
   "outputs": [
    {
     "data": {
      "text/plain": [
       "[<matplotlib.lines.Line2D at 0x7f5accd05f60>]"
      ]
     },
     "execution_count": 24,
     "metadata": {},
     "output_type": "execute_result"
    },
    {
     "data": {
      "image/png": "iVBORw0KGgoAAAANSUhEUgAAA3gAAAF8CAYAAACdYBlxAAAABHNCSVQICAgIfAhkiAAAAAlwSFlz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\n",
      "text/plain": [
       "<matplotlib.figure.Figure at 0x7f5accddd518>"
      ]
     },
     "metadata": {},
     "output_type": "display_data"
    }
   ],
   "source": [
    "pyplot.figure(figsize=(10,4))   #set plot size\n",
    "pyplot.ylim(0,1500)             #y-axis plot limits\n",
    "pyplot.tick_params(axis='both', labelsize=14) #increase font size for ticks\n",
    "pyplot.xlabel('t(temps)', fontsize=14) #x label\n",
    "pyplot.ylabel('h (altitude)', fontsize=14) #y label\n",
    "pyplot.plot(t[0:n-1],h[0:n-1], 'k-')"
   ]
  },
  {
   "cell_type": "code",
   "execution_count": 25,
   "metadata": {
    "collapsed": false
   },
   "outputs": [
    {
     "data": {
      "text/plain": [
       "[<matplotlib.lines.Line2D at 0x7f5acc61a8d0>]"
      ]
     },
     "execution_count": 25,
     "metadata": {},
     "output_type": "execute_result"
    },
    {
     "data": {
      "image/png": "iVBORw0KGgoAAAANSUhEUgAAA3wAAAF8CAYAAACUi7kLAAAABHNCSVQICAgIfAhkiAAAAAlwSFlz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\n",
      "text/plain": [
       "<matplotlib.figure.Figure at 0x7f5accd1f0b8>"
      ]
     },
     "metadata": {},
     "output_type": "display_data"
    }
   ],
   "source": [
    "pyplot.figure(figsize=(10,4))   #set plot size\n",
    "pyplot.ylim(-320,320)             #y-axis plot limits\n",
    "pyplot.tick_params(axis='both', labelsize=14) #increase font size for ticks\n",
    "pyplot.xlabel('t (temps)', fontsize=14) #x label\n",
    "pyplot.ylabel('v (vitesse)', fontsize=14) #y label\n",
    "pyplot.plot(t[0:n-1],v[0:n-1], 'k-')"
   ]
  },
  {
   "cell_type": "markdown",
   "metadata": {
    "collapsed": true
   },
   "source": [
    "### Questions #\n"
   ]
  },
  {
   "cell_type": "markdown",
   "metadata": {
    "collapsed": true
   },
   "source": [
    "$\\underline{Q1.}$ \n",
    "\n",
    "Quelle masse de carburant la fusée contient-elle à t = 3,2s ?\n",
    "\n",
    "Bertrand pourquoi on peut pas simplement faire comme ceci en justifiant que la seconde 3.2 sera atteinte à la 32ème étape étant donnée que chaque étape augmente de .1s?"
   ]
  },
  {
   "cell_type": "code",
   "execution_count": 26,
   "metadata": {
    "collapsed": false
   },
   "outputs": [
    {
     "name": "stdout",
     "output_type": "stream",
     "text": [
      "36.0 kg\n"
     ]
    }
   ],
   "source": [
    "print (mp_value(32), 'kg')"
   ]
  },
  {
   "cell_type": "code",
   "execution_count": 27,
   "metadata": {
    "collapsed": false
   },
   "outputs": [
    {
     "name": "stdout",
     "output_type": "stream",
     "text": [
      "36.0 kg\n"
     ]
    }
   ],
   "source": [
    "for s in range(0,n):\n",
    "    if 3.1<t[s]<3.3:\n",
    "        mass= mp_value(s)\n",
    "print (mass, 'kg')"
   ]
  },
  {
   "cell_type": "markdown",
   "metadata": {},
   "source": [
    "  "
   ]
  },
  {
   "cell_type": "markdown",
   "metadata": {},
   "source": [
    " $\\underline{Q2.}$ \n",
    " - Quelle est, arrondie à deux décimales, la vitesse maximale atteinte ? "
   ]
  },
  {
   "cell_type": "markdown",
   "metadata": {},
   "source": [
    "Le code suivant retrouve la vitesse maximale en comparant toutes les vitesses strictement positives de la liste v (on se dispense de comparer des vitesses négatives pour éviter de faire exécuter des tâches superflues à l'ordinateur). "
   ]
  },
  {
   "cell_type": "markdown",
   "metadata": {},
   "source": [
    "$\\underline{N.B}$ : Il est évident que la vitesse sera maximale quand la masse de carburant passera à 0kg. Nous aurions pu trouver cette vitesse comme cela, mais nous optons pour une méthode applicable à un cas plus général d'objet envoyé en altitude qui retombe vers le sol.\n",
    "\n",
    "\n",
    "Bertrand:\n",
    "\n",
    "Je me dis que en fait dans tout les cas d'un objet envoyé en l'air qui retombe sur le sol, la vitesse maximale sera celle au moment où on cesse de donner du carburant: en effet s'il n'y a pas de carburant alors par conservation de l'énergie mécanique la vitesse maximale sera la vitesse initiale.\n",
    "\n",
    "Qu'en penses-tu? on peut quand meme laisser ta boucle "
   ]
  },
  {
   "cell_type": "code",
   "execution_count": 28,
   "metadata": {
    "collapsed": false
   },
   "outputs": [
    {
     "name": "stdout",
     "output_type": "stream",
     "text": [
      "232.11 m/s\n"
     ]
    }
   ],
   "source": [
    "for j in range(0,n) :\n",
    "    if v[j]>0:\n",
    "        if v[j]>v[j-1]:\n",
    "            vmax=v[j]\n",
    "            tvmax=t[j]\n",
    "            hvmax=h[j]\n",
    "print (round(vmax,2), 'm/s')"
   ]
  },
  {
   "cell_type": "markdown",
   "metadata": {},
   "source": [
    "- A quel instant cette vitesse est-elle atteinte ?"
   ]
  },
  {
   "cell_type": "code",
   "execution_count": 29,
   "metadata": {
    "collapsed": false
   },
   "outputs": [
    {
     "name": "stdout",
     "output_type": "stream",
     "text": [
      "5.0 s\n"
     ]
    }
   ],
   "source": [
    "print (round(tvmax,2), 's')"
   ]
  },
  {
   "cell_type": "markdown",
   "metadata": {},
   "source": [
    "- A quelle altitude est la fusée à cet instant ?"
   ]
  },
  {
   "cell_type": "code",
   "execution_count": 30,
   "metadata": {
    "collapsed": false
   },
   "outputs": [
    {
     "name": "stdout",
     "output_type": "stream",
     "text": [
      "523.52 m\n"
     ]
    }
   ],
   "source": [
    "print (round(hvmax,2), 'm')"
   ]
  },
  {
   "cell_type": "markdown",
   "metadata": {},
   "source": [
    "  "
   ]
  },
  {
   "cell_type": "markdown",
   "metadata": {},
   "source": [
    "\n",
    "$\\underline{Q3.}$ \n",
    " - Quelle est, arrondie à deux décimales, l'altitude maximale atteinte ? "
   ]
  },
  {
   "cell_type": "markdown",
   "metadata": {},
   "source": [
    "De manière similaire à celui utilisé pour déterminer la vitesse maximale, Le code suivant retrouve l'altitude maximale en comparant toutes les altitudes de la partie de la liste allant de h= 0 m à l'altitude à la même position que la première occurrence d'une vitesse négative (après ça, nous ne pouvons tomber sur une altitude plus élevée en parcourant la liste).  \n",
    "\n",
    "\n",
    "\n",
    "\n",
    "Bertrand: ici on peut simplement dire que l'altitude maximale est atteinte lorque la vitesse atteint zero et franchement pour ce cas la je ne vois pas dans quel probleme ce ne serait pas le cas :p"
   ]
  },
  {
   "cell_type": "code",
   "execution_count": 31,
   "metadata": {
    "collapsed": false
   },
   "outputs": [
    {
     "name": "stdout",
     "output_type": "stream",
     "text": [
      "1334.18 m\n"
     ]
    }
   ],
   "source": [
    "for u in range(0,n) :\n",
    "    if v[u-1]>0:\n",
    "        if h[u]>h[u-1]:\n",
    "            hmax=h[u]\n",
    "            thmax=t[u]\n",
    "print (round(hmax,2), 'm')"
   ]
  },
  {
   "cell_type": "markdown",
   "metadata": {},
   "source": [
    "- A quel instant cette altitude est-elle atteinte ?"
   ]
  },
  {
   "cell_type": "code",
   "execution_count": 32,
   "metadata": {
    "collapsed": false
   },
   "outputs": [
    {
     "name": "stdout",
     "output_type": "stream",
     "text": [
      "15.7 s\n"
     ]
    }
   ],
   "source": [
    "print (round(thmax,2), 's')"
   ]
  },
  {
   "cell_type": "markdown",
   "metadata": {},
   "source": [
    "  "
   ]
  },
  {
   "cell_type": "markdown",
   "metadata": {},
   "source": [
    "\n",
    "$\\underline{Q4.}$ \n",
    " - A quel instant l'impact avec le sol a-t-il lieu ? "
   ]
  },
  {
   "cell_type": "markdown",
   "metadata": {},
   "source": [
    "La boucle qui a permis de construire nos listes de temps, vitesses et altitudes s'est arrêtée à la première occurrence d'un h négatif (au premier instant après l'impact). On doit donc prendre le temps en position [n-1] dans la list t."
   ]
  },
  {
   "cell_type": "code",
   "execution_count": 33,
   "metadata": {
    "collapsed": false
   },
   "outputs": [
    {
     "name": "stdout",
     "output_type": "stream",
     "text": [
      "37.1 s\n"
     ]
    }
   ],
   "source": [
    "print (round(t[n-1],2), 's')"
   ]
  },
  {
   "cell_type": "markdown",
   "metadata": {},
   "source": [
    "- Quelle est la vitesse de l'engin au moment de l'impact ?"
   ]
  },
  {
   "cell_type": "markdown",
   "metadata": {},
   "source": [
    "De même pour v :"
   ]
  },
  {
   "cell_type": "code",
   "execution_count": 34,
   "metadata": {
    "collapsed": false
   },
   "outputs": [
    {
     "name": "stdout",
     "output_type": "stream",
     "text": [
      "-86.01 m/s\n"
     ]
    }
   ],
   "source": [
    "print (round(v[n-1],2), 'm/s')"
   ]
  },
  {
<<<<<<< HEAD
   "cell_type": "markdown",
   "metadata": {
    "collapsed": true
   },
   "source": [
    "test"
   ]
  },
  {
=======
>>>>>>> 6c17edbaff97a2ae5505fda793265b990315a33a
   "cell_type": "code",
   "execution_count": null,
   "metadata": {
    "collapsed": true
   },
   "outputs": [],
   "source": []
  }
 ],
 "metadata": {
  "anaconda-cloud": {},
  "kernelspec": {
   "display_name": "Python [default]",
   "language": "python",
   "name": "python3"
  },
  "language_info": {
   "codemirror_mode": {
    "name": "ipython",
    "version": 3
   },
   "file_extension": ".py",
   "mimetype": "text/x-python",
   "name": "python",
   "nbconvert_exporter": "python",
   "pygments_lexer": "ipython3",
   "version": "3.5.2"
  }
 },
 "nbformat": 4,
 "nbformat_minor": 0
}
